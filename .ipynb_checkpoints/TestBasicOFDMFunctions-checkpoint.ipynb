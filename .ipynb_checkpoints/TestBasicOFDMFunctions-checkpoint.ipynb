{
 "cells": [
  {
   "cell_type": "markdown",
   "id": "d07cc2d6",
   "metadata": {},
   "source": [
    "# Testing Basic OFDM functions"
   ]
  },
  {
   "cell_type": "code",
   "execution_count": 35,
   "id": "c1f91355",
   "metadata": {
    "ExecuteTime": {
     "end_time": "2023-01-04T18:51:39.644372Z",
     "start_time": "2023-01-04T18:51:39.514347Z"
    }
   },
   "outputs": [],
   "source": [
    "import numpy as np\n",
    "import matplotlib.pyplot as plt\n",
    "\n",
    "from optic.modulation import modulateGray\n",
    "from optic.metrics     import fastBERcalc, signal_power, theoryBER\n",
    "from optic.core        import parameters\n",
    "from optic.models      import photodiode, awgn #ssfm \n",
    "from optic.dsp         import lowPassFIR, firFilter, pnorm, pulseShape\n",
    "from optic.modelsGPU   import ssfm, manakovSSF\n",
    "from optic.equalization import edc\n",
    "from tqdm.notebook     import tqdm\n",
    "from utils.ofdm        import Tx, Rx, PAPR, hermit, modulateOFDM, demodulateOFDM\n",
    "from commpy.utilities  import upsample\n",
    "from tqdm.notebook     import tqdm\n",
    "from tabulate          import tabulate\n",
    "from optic.plot import plotPSD\n",
    "\n",
    "pi = np.pi"
   ]
  },
  {
   "cell_type": "code",
   "execution_count": 2,
   "id": "5cb164a6",
   "metadata": {
    "ExecuteTime": {
     "end_time": "2023-01-04T18:39:11.719877Z",
     "start_time": "2023-01-04T18:39:11.707865Z"
    }
   },
   "outputs": [],
   "source": [
    "#import scienceplots\n",
    "\n",
    "#plt.style.use('science')\n",
    "font = {'size':14}\n",
    "plt.rc('font', **font)\n",
    "plt.rcParams['figure.dpi'] = 100"
   ]
  },
  {
   "cell_type": "code",
   "execution_count": 3,
   "id": "e8d0f99e",
   "metadata": {
    "ExecuteTime": {
     "end_time": "2023-01-04T18:39:11.846140Z",
     "start_time": "2023-01-04T18:39:11.721863Z"
    }
   },
   "outputs": [],
   "source": [
    "%load_ext autoreload\n",
    "%autoreload 2"
   ]
  },
  {
   "cell_type": "markdown",
   "id": "c2d31bc5",
   "metadata": {},
   "source": [
    "## Parameters"
   ]
  },
  {
   "cell_type": "code",
   "execution_count": 38,
   "id": "26c8f10c",
   "metadata": {
    "ExecuteTime": {
     "end_time": "2023-01-04T18:51:56.377052Z",
     "start_time": "2023-01-04T18:51:56.255042Z"
    }
   },
   "outputs": [],
   "source": [
    "# Parâmetros do transmissor\n",
    "paramTx = parameters()\n",
    "\n",
    "# OFDM\n",
    "M    = 4                        # Número de símbolos da constelação QAM\n",
    "Nfft = 512                      # Tamanho da FFT\n",
    "Ns = int(Nfft/2) - 1            # Número de sub-portadoras\n",
    "N  = Ns                         # Número de portadoras de informação\n",
    "Nz = Ns - N                     # Número de subportadoras nulas\n",
    "G  = 4                          # Tamanho do prefixo cíclico\n",
    "K  = 4                          # Número de portadoras piloto por bloco OFDM\n",
    "\n",
    "Rb  = 3e9                       # Taxa de bits/s\n",
    "Rs  = Rb*Ns*(1 +G/Nfft) / (np.log2(M)*N)      # Banda do sinal\n",
    "SpS = 4                         # Amostras por símbolo\n",
    "Fa  = Rs*SpS                    # Frequência de amostragem\n",
    "Fc  = 193.4e12                  # Frequência da portadora óptica"
   ]
  },
  {
   "cell_type": "code",
   "execution_count": 39,
   "id": "39fdca6d",
   "metadata": {
    "ExecuteTime": {
     "end_time": "2023-01-04T18:51:57.433147Z",
     "start_time": "2023-01-04T18:51:57.228091Z"
    }
   },
   "outputs": [],
   "source": [
    "# Random bits sequency\n",
    "bits = np.random.randint(2, size = Ns*2**6)\n",
    "\n",
    "# Maping bits - symbols\n",
    "symbTx = modulateGray(bits, M, 'qam')\n",
    "symbTx = pnorm(symbTx) # power normalization\n",
    "\n",
    "# Pilot carriers\n",
    "pilot = (max(symbTx.real) + 1j*max(symbTx.imag))/np.sqrt(2)\n",
    "\n",
    "# OFDM symbols generation\n",
    "symbTx_OFDM, symbTx = modulateOFDM(Nfft, Ns, N, Nz, G, K, pilot, symbTx)\n",
    "\n",
    "# Upsample + pulse shaping\n",
    "pulse = pulseShape('rrc', SpS, alpha = 0.01)\n",
    "pulse = pnorm(pulse)\n",
    "sigOFDM_Tx = firFilter(pulse, upsample(symbTx_OFDM, SpS))"
   ]
  },
  {
   "cell_type": "code",
   "execution_count": 40,
   "id": "138ec410",
   "metadata": {
    "ExecuteTime": {
     "end_time": "2023-01-04T18:51:58.333856Z",
     "start_time": "2023-01-04T18:51:57.971853Z"
    }
   },
   "outputs": [
    {
     "data": {
      "image/png": "[encoded data removed]",
      "text/plain": [
       "<Figure size 432x288 with 1 Axes>"
      ]
     },
     "metadata": {
      "needs_background": "light"
     },
     "output_type": "display_data"
    }
   ],
   "source": [
    "plotPSD(sigOFDM_Tx);"
   ]
  },
  {
   "cell_type": "code",
   "execution_count": 30,
   "id": "70bee9b7",
   "metadata": {
    "ExecuteTime": {
     "end_time": "2023-01-04T18:48:13.368227Z",
     "start_time": "2023-01-04T18:48:13.232215Z"
    }
   },
   "outputs": [],
   "source": [
    "\n",
    "\n",
    "# OFDM demodulation\n",
    "symbRx, symbRx_neq, H_abs, H_pha = demodulateOFDM(Nfft, Ns, N, Nz, G, K, pilot, symbTx_OFDM)"
   ]
  },
  {
   "cell_type": "code",
   "execution_count": 32,
   "id": "2180dcb0",
   "metadata": {
    "ExecuteTime": {
     "end_time": "2023-01-04T18:48:44.490339Z",
     "start_time": "2023-01-04T18:48:44.361260Z"
    }
   },
   "outputs": [
    {
     "name": "stdout",
     "output_type": "stream",
     "text": [
      "BER = 0.00e+00\n"
     ]
    }
   ],
   "source": [
    "BER = fastBERcalc(symbRx, symbTx, M, 'qam')[0]\n",
    "\n",
    "print('BER = %.2e'%BER)"
   ]
  },
  {
   "cell_type": "code",
   "execution_count": null,
   "id": "9b3ad1e4",
   "metadata": {},
   "outputs": [],
   "source": []
  }
 ],
 "metadata": {
  "kernelspec": {
   "display_name": "Python 3 (ipykernel)",
   "language": "python",
   "name": "python3"
  },
  "language_info": {
   "codemirror_mode": {
    "name": "ipython",
    "version": 3
   },
   "file_extension": ".py",
   "mimetype": "text/x-python",
   "name": "python",
   "nbconvert_exporter": "python",
   "pygments_lexer": "ipython3",
   "version": "3.9.12"
  }
 },
 "nbformat": 4,
 "nbformat_minor": 5
}
