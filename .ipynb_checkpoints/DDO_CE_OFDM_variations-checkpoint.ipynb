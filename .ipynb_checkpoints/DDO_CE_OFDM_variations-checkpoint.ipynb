{
 "cells": [
  {
   "cell_type": "markdown",
   "id": "6ed499fd",
   "metadata": {},
   "source": [
    "# Modulação DDO-CE-OFDM"
   ]
  },
  {
   "cell_type": "markdown",
   "id": "93100c76",
   "metadata": {},
   "source": [
    "Este código apresenta uma implementação de um sistema de comunicação óptica de detecção direta com modulação OFDM e envelope constante (DDO-CE-OFDM). "
   ]
  },
  {
   "attachments": {
    "ce_ofdm_scheme.png": {
     "image/png": "[encoded data removed]"
    }
   },
   "cell_type": "markdown",
   "id": "77e6e981",
   "metadata": {},
   "source": [
    "![ce_ofdm_scheme.png](attachment:ce_ofdm_scheme.png)"
   ]
  },
  {
   "cell_type": "code",
   "execution_count": 1,
   "id": "d3161f58",
   "metadata": {},
   "outputs": [],
   "source": [
    "import numpy as np\n",
    "import matplotlib.pyplot as plt\n",
    "\n",
    "from optic.metrics     import fastBERcalc\n",
    "from optic.core        import parameters\n",
    "from optic.models      import ssfm\n",
    "\n",
    "from utils.ce_ofdm     import Tx, Rx\n",
    "\n",
    "pi = np.pi"
   ]
  },
  {
   "cell_type": "code",
   "execution_count": 3,
   "id": "093d8b01",
   "metadata": {},
   "outputs": [],
   "source": [
    "font = {'family':'serif', 'weight':'normal', 'size':16}\n",
    "plt.rc('font', **font)\n",
    "plt.rc('lines',lw = 2)"
   ]
  },
  {
   "cell_type": "markdown",
   "id": "ee576348",
   "metadata": {},
   "source": [
    "## 1 - Transmissão"
   ]
  },
  {
   "cell_type": "code",
   "execution_count": 4,
   "id": "71ea3483",
   "metadata": {},
   "outputs": [],
   "source": [
    "paramTx = parameters()\n",
    "\n",
    "# Parâmetros da transmissão\n",
    "paramTx.SpS = 32           # Amostras por símbolo\n",
    "paramTx.Rs  = 1.5e9        # Taxa de símbolo\n",
    "paramTx.Ts  = 1/paramTx.Rs # Tempo de símblo\n",
    "paramTx.Fa  = 1/(paramTx.Ts/paramTx.SpS) # Frequência de amostragem\n",
    "paramTx.Ta  = 1/paramTx.Fa # Período de amostragem\n",
    "\n",
    "# Parâmetros do esquema OFDM\n",
    "paramTx.M = 4    # Número de símbolos da constelação QAM\n",
    "paramTx.N = 512  # Dobro do número de sub-portadoras\n",
    "paramTx.G = 4    # Tamanho do prefixo cíclico\n",
    "paramTx.K = 8   # Número de portadoras piloto por bloco OFDM\n",
    "\n",
    "# Parâmetros da portadora elétrica\n",
    "paramTx.H  = 0.35/(2*pi) # Índice de modulação\n",
    "paramTx.fc = 1e9         # Frequência da portadora [Hz]\n",
    "paramTx.A  = 1           # Amplitude da portadora\n",
    "\n",
    "# Parâmetros do MZM e potência de entrada\n",
    "paramTx.Vπ    = 3\n",
    "paramTx.Vb    = -0.5*paramTx.Vπ\n",
    "paramTx.Pi_dBm = 2"
   ]
  },
  {
   "cell_type": "code",
   "execution_count": 5,
   "id": "87f67540",
   "metadata": {},
   "outputs": [],
   "source": [
    "sigTxo, symbTx, t, pulse, pilot = Tx(paramTx)"
   ]
  },
  {
   "cell_type": "markdown",
   "id": "05af3e7b",
   "metadata": {},
   "source": [
    "## 2 - Canal óptico"
   ]
  },
  {
   "cell_type": "code",
   "execution_count": 6,
   "id": "09c47daf",
   "metadata": {},
   "outputs": [],
   "source": [
    "paramCh = parameters()\n",
    "\n",
    "# Parâmetros da fibra\n",
    "paramCh.Ltotal = 500        # Comprimento total do link [km]\n",
    "paramCh.Lspan  = 100        # Comprimento de um span de fibra [km]\n",
    "paramCh.hz     = 0.5        # Comprimento do passo para o método SSF [km]\n",
    "paramCh.alpha  = 0.2        # Atenuação da fibra [dB/km]\n",
    "paramCh.D      = 16         # Parâmetro de dispersão cromática [ps/nm/km]\n",
    "paramCh.gamma  = 1.3        # Parâmetro de não-linearidade da fibra [1/W/km]\n",
    "paramCh.amp    = 'edfa'     # Tipo de amplificador\n",
    "paramCh.NF     = 4.5        # Figura de ruído do amplificador [dB]\n",
    "paramCh.Fc     = paramTx.Fc # Frequência da portadora óptica [Hz]"
   ]
  },
  {
   "cell_type": "code",
   "execution_count": null,
   "id": "cc2e785a",
   "metadata": {},
   "outputs": [],
   "source": [
    "sigRxo,_  = ssfm(sigTxo, paramTx.Fa, paramCh)"
   ]
  },
  {
   "cell_type": "markdown",
   "id": "044346ec",
   "metadata": {},
   "source": [
    "## 3 - Recepção"
   ]
  },
  {
   "cell_type": "code",
   "execution_count": 7,
   "id": "19520065",
   "metadata": {},
   "outputs": [],
   "source": [
    "paramRx = parameters()\n",
    "\n",
    "# Parâmetros do receptor\n",
    "paramRx.Tc = 25    # Temperatura [°C]\n",
    "paramRx.Rd = 0.85  # Responsividade\n",
    "paramRx.Id = 5e-9  # Corrente de escuro [A]\n",
    "paramRx.RL = 50    # Resistência [Ω]\n",
    "paramRx.B  = 10e9  # Largura de banda [Hz]\n",
    "\n",
    "paramRx.Fa  = paramTx.Fa   # Frequência de amostragem\n",
    "paramRx.SpS = paramTx.SpS  # Amostras por símbolo\n",
    "paramRx.H   = paramTx.H    # Índice de modulação\n",
    "paramRx.fc  = paramTx.fc   # Frequência da portadora elétrica\n",
    "\n",
    "paramRx.N = paramTx.N\n",
    "paramRx.G = paramTx.G\n",
    "paramRx.K = paramTx.K"
   ]
  },
  {
   "cell_type": "code",
   "execution_count": 479,
   "id": "dd6de23a",
   "metadata": {},
   "outputs": [],
   "source": [
    "symbRx, symbRx_neq, H_abs, H_pha = Rx(sigRxo, pilot, pulse, t, paramRx)"
   ]
  },
  {
   "cell_type": "markdown",
   "id": "8685cb9f",
   "metadata": {},
   "source": [
    "## 4 - Desempenho do sistema"
   ]
  },
  {
   "cell_type": "markdown",
   "id": "0934174e",
   "metadata": {},
   "source": [
    "### 4.1 - Com equalização"
   ]
  },
  {
   "cell_type": "code",
   "execution_count": 480,
   "id": "b8a3e5f6",
   "metadata": {},
   "outputs": [
    {
     "data": {
      "text/plain": [
       "(array([0.]), array([0.]), array([19.61226609]))"
      ]
     },
     "execution_count": 480,
     "metadata": {},
     "output_type": "execute_result"
    }
   ],
   "source": [
    "symbRx[0::int(paramTx.N/2)] = 'nan'\n",
    "symbTx[0::int(paramTx.N/2)] = 'nan'\n",
    "\n",
    "symbTx = symbTx[~np.isnan(symbTx)]\n",
    "symbRx = symbRx[~np.isnan(symbRx)]\n",
    "\n",
    "# Cálculo da BER\n",
    "fastBERcalc(symbRx, symbTx, paramTx.M, 'qam')"
   ]
  },
  {
   "cell_type": "code",
   "execution_count": 481,
   "id": "c5e433fc",
   "metadata": {},
   "outputs": [
    {
     "data": {
      "text/plain": [
       "(-1.5, 1.5)"
      ]
     },
     "execution_count": 481,
     "metadata": {},
     "output_type": "execute_result"
    },
    {
     "data": {
      "image/png": "[encoded data removed]",
      "text/plain": [
       "<Figure size 720x720 with 1 Axes>"
      ]
     },
     "metadata": {
      "needs_background": "light"
     },
     "output_type": "display_data"
    }
   ],
   "source": [
    "# Plot da constelação transmitida e recebida\n",
    "plt.figure(figsize=(10, 10))\n",
    "plt.plot(symbRx.real, symbRx.imag, '.', label = 'Rx')\n",
    "plt.plot(symbTx.real, symbTx.imag, '.', label = 'Tx')\n",
    "plt.axis('square')\n",
    "plt.xlabel('In-Phase (I)')\n",
    "plt.ylabel('Quadrature (Q)')\n",
    "plt.legend(loc = 'upper left')\n",
    "plt.tight_layout()\n",
    "plt.grid()\n",
    "\n",
    "plt.xlim(-1.5,1.5)\n",
    "plt.ylim(-1.5,1.5)"
   ]
  },
  {
   "cell_type": "markdown",
   "id": "65bb107f",
   "metadata": {},
   "source": [
    "### 4.2 - Sem equalização"
   ]
  },
  {
   "cell_type": "code",
   "execution_count": 482,
   "id": "33fcb03b",
   "metadata": {},
   "outputs": [
    {
     "data": {
      "text/plain": [
       "(array([0.]), array([0.]), array([19.91876409]))"
      ]
     },
     "execution_count": 482,
     "metadata": {},
     "output_type": "execute_result"
    }
   ],
   "source": [
    "symbRx_neq[0::int(paramTx.N/2)] = 'nan'\n",
    "\n",
    "symbRx_neq = symbRx_neq[~np.isnan(symbRx_neq)]\n",
    "\n",
    "# Cálculo da BER\n",
    "fastBERcalc(symbRx_neq, symbTx, paramTx.M, 'qam')"
   ]
  },
  {
   "cell_type": "code",
   "execution_count": 483,
   "id": "93f820b2",
   "metadata": {},
   "outputs": [
    {
     "data": {
      "text/plain": [
       "(-1.5, 1.5)"
      ]
     },
     "execution_count": 483,
     "metadata": {},
     "output_type": "execute_result"
    },
    {
     "data": {
      "image/png": "[encoded data removed]",
      "text/plain": [
       "<Figure size 720x720 with 1 Axes>"
      ]
     },
     "metadata": {
      "needs_background": "light"
     },
     "output_type": "display_data"
    }
   ],
   "source": [
    "# Plot da constelação transmitida e recebida\n",
    "plt.figure(figsize=(10, 10))\n",
    "plt.plot(symbRx_neq.real, symbRx_neq.imag, '.', label = 'Rx')\n",
    "plt.plot(symbTx.real, symbTx.imag, '.', label = 'Tx')\n",
    "plt.axis('square')\n",
    "plt.xlabel('In-Phase (I)')\n",
    "plt.ylabel('Quadrature (Q)')\n",
    "plt.legend(loc = 'upper left')\n",
    "plt.tight_layout()\n",
    "plt.grid()\n",
    "\n",
    "plt.xlim(-1.5,1.5)\n",
    "plt.ylim(-1.5,1.5)"
   ]
  },
  {
   "cell_type": "markdown",
   "id": "5facb2cf",
   "metadata": {},
   "source": [
    "## Desempenho 4-QAM"
   ]
  },
  {
   "cell_type": "markdown",
   "id": "bd97297c",
   "metadata": {},
   "source": [
    "## 1 - Escolha dos parâmetros ótimos de transmissão"
   ]
  },
  {
   "cell_type": "markdown",
   "id": "1abe9c21",
   "metadata": {},
   "source": [
    "### 1.1 - $V_{bias}$"
   ]
  },
  {
   "cell_type": "code",
   "execution_count": 26,
   "id": "ca5fed87",
   "metadata": {},
   "outputs": [
    {
     "data": {
      "application/vnd.jupyter.widget-view+json": {
       "model_id": "f6673c3e369c4e7ca4abd440ec64c209",
       "version_major": 2,
       "version_minor": 0
      },
      "text/plain": [
       "  0%|          | 0/6 [00:00<?, ?it/s]"
      ]
     },
     "metadata": {},
     "output_type": "display_data"
    },
    {
     "data": {
      "application/vnd.jupyter.widget-view+json": {
       "model_id": "586c08b9818b41e1ba15d1a07a185208",
       "version_major": 2,
       "version_minor": 0
      },
      "text/plain": [
       "  0%|          | 0/6 [00:00<?, ?it/s]"
      ]
     },
     "metadata": {},
     "output_type": "display_data"
    },
    {
     "data": {
      "application/vnd.jupyter.widget-view+json": {
       "model_id": "7d01e12b3dbe4bfaa171f40f9d8585cc",
       "version_major": 2,
       "version_minor": 0
      },
      "text/plain": [
       "  0%|          | 0/6 [00:00<?, ?it/s]"
      ]
     },
     "metadata": {},
     "output_type": "display_data"
    },
    {
     "data": {
      "application/vnd.jupyter.widget-view+json": {
       "model_id": "e98591edd2d0459ab7b5692ac03afb8a",
       "version_major": 2,
       "version_minor": 0
      },
      "text/plain": [
       "  0%|          | 0/6 [00:00<?, ?it/s]"
      ]
     },
     "metadata": {},
     "output_type": "display_data"
    },
    {
     "data": {
      "application/vnd.jupyter.widget-view+json": {
       "model_id": "7596661126294079b495db953707da00",
       "version_major": 2,
       "version_minor": 0
      },
      "text/plain": [
       "  0%|          | 0/6 [00:00<?, ?it/s]"
      ]
     },
     "metadata": {},
     "output_type": "display_data"
    },
    {
     "data": {
      "application/vnd.jupyter.widget-view+json": {
       "model_id": "b072f7fb41d54f7aba5d10c56f73b21d",
       "version_major": 2,
       "version_minor": 0
      },
      "text/plain": [
       "  0%|          | 0/6 [00:00<?, ?it/s]"
      ]
     },
     "metadata": {},
     "output_type": "display_data"
    },
    {
     "data": {
      "application/vnd.jupyter.widget-view+json": {
       "model_id": "2e4424094ab048fdafbce0a1184b1f87",
       "version_major": 2,
       "version_minor": 0
      },
      "text/plain": [
       "  0%|          | 0/6 [00:00<?, ?it/s]"
      ]
     },
     "metadata": {},
     "output_type": "display_data"
    },
    {
     "data": {
      "application/vnd.jupyter.widget-view+json": {
       "model_id": "996196ababec4e7e826efa948d9e14e3",
       "version_major": 2,
       "version_minor": 0
      },
      "text/plain": [
       "  0%|          | 0/6 [00:00<?, ?it/s]"
      ]
     },
     "metadata": {},
     "output_type": "display_data"
    },
    {
     "data": {
      "application/vnd.jupyter.widget-view+json": {
       "model_id": "b293b8662ff4493c996d6d081c879f54",
       "version_major": 2,
       "version_minor": 0
      },
      "text/plain": [
       "  0%|          | 0/6 [00:00<?, ?it/s]"
      ]
     },
     "metadata": {},
     "output_type": "display_data"
    },
    {
     "data": {
      "application/vnd.jupyter.widget-view+json": {
       "model_id": "7f60fcb5720c4e2c89dc7211d0ce5eaa",
       "version_major": 2,
       "version_minor": 0
      },
      "text/plain": [
       "  0%|          | 0/6 [00:00<?, ?it/s]"
      ]
     },
     "metadata": {},
     "output_type": "display_data"
    },
    {
     "data": {
      "application/vnd.jupyter.widget-view+json": {
       "model_id": "b1ce5f2a5fd849c59ad4237c131a5c30",
       "version_major": 2,
       "version_minor": 0
      },
      "text/plain": [
       "  0%|          | 0/6 [00:00<?, ?it/s]"
      ]
     },
     "metadata": {},
     "output_type": "display_data"
    },
    {
     "data": {
      "application/vnd.jupyter.widget-view+json": {
       "model_id": "d958e23024d24aa4b1b094eab778ef4f",
       "version_major": 2,
       "version_minor": 0
      },
      "text/plain": [
       "  0%|          | 0/7 [00:00<?, ?it/s]"
      ]
     },
     "metadata": {},
     "output_type": "display_data"
    },
    {
     "data": {
      "application/vnd.jupyter.widget-view+json": {
       "model_id": "03d31212c7ae4669860f2b394051a0e8",
       "version_major": 2,
       "version_minor": 0
      },
      "text/plain": [
       "  0%|          | 0/7 [00:00<?, ?it/s]"
      ]
     },
     "metadata": {},
     "output_type": "display_data"
    },
    {
     "data": {
      "application/vnd.jupyter.widget-view+json": {
       "model_id": "c045e1660f134800894b6672461c8abb",
       "version_major": 2,
       "version_minor": 0
      },
      "text/plain": [
       "  0%|          | 0/7 [00:00<?, ?it/s]"
      ]
     },
     "metadata": {},
     "output_type": "display_data"
    },
    {
     "data": {
      "application/vnd.jupyter.widget-view+json": {
       "model_id": "5f2eddcf318446a0a0057e306e8a31c5",
       "version_major": 2,
       "version_minor": 0
      },
      "text/plain": [
       "  0%|          | 0/7 [00:00<?, ?it/s]"
      ]
     },
     "metadata": {},
     "output_type": "display_data"
    },
    {
     "data": {
      "application/vnd.jupyter.widget-view+json": {
       "model_id": "5a4b70e651774db5945d053ef15d2c43",
       "version_major": 2,
       "version_minor": 0
      },
      "text/plain": [
       "  0%|          | 0/7 [00:00<?, ?it/s]"
      ]
     },
     "metadata": {},
     "output_type": "display_data"
    },
    {
     "data": {
      "application/vnd.jupyter.widget-view+json": {
       "model_id": "043b6717c8c04734afac3d9b4de0311e",
       "version_major": 2,
       "version_minor": 0
      },
      "text/plain": [
       "  0%|          | 0/7 [00:00<?, ?it/s]"
      ]
     },
     "metadata": {},
     "output_type": "display_data"
    },
    {
     "data": {
      "application/vnd.jupyter.widget-view+json": {
       "model_id": "82498a1a6fbc454cb674c133d5416a1a",
       "version_major": 2,
       "version_minor": 0
      },
      "text/plain": [
       "  0%|          | 0/7 [00:00<?, ?it/s]"
      ]
     },
     "metadata": {},
     "output_type": "display_data"
    },
    {
     "data": {
      "application/vnd.jupyter.widget-view+json": {
       "model_id": "5d6fde1faf3a42d2b18d956df888f10d",
       "version_major": 2,
       "version_minor": 0
      },
      "text/plain": [
       "  0%|          | 0/7 [00:00<?, ?it/s]"
      ]
     },
     "metadata": {},
     "output_type": "display_data"
    },
    {
     "data": {
      "application/vnd.jupyter.widget-view+json": {
       "model_id": "75514f1dd2044afe894715e29d78b4d1",
       "version_major": 2,
       "version_minor": 0
      },
      "text/plain": [
       "  0%|          | 0/7 [00:00<?, ?it/s]"
      ]
     },
     "metadata": {},
     "output_type": "display_data"
    },
    {
     "data": {
      "application/vnd.jupyter.widget-view+json": {
       "model_id": "ca7a538b361348ac88f4810902446e2d",
       "version_major": 2,
       "version_minor": 0
      },
      "text/plain": [
       "  0%|          | 0/7 [00:00<?, ?it/s]"
      ]
     },
     "metadata": {},
     "output_type": "display_data"
    },
    {
     "data": {
      "application/vnd.jupyter.widget-view+json": {
       "model_id": "1c8c47ac54f0491c8a2cf6bdfb9a0e91",
       "version_major": 2,
       "version_minor": 0
      },
      "text/plain": [
       "  0%|          | 0/7 [00:00<?, ?it/s]"
      ]
     },
     "metadata": {},
     "output_type": "display_data"
    },
    {
     "data": {
      "application/vnd.jupyter.widget-view+json": {
       "model_id": "e0e14e726e704f8f82f3f5d23e00c103",
       "version_major": 2,
       "version_minor": 0
      },
      "text/plain": [
       "  0%|          | 0/8 [00:00<?, ?it/s]"
      ]
     },
     "metadata": {},
     "output_type": "display_data"
    },
    {
     "data": {
      "application/vnd.jupyter.widget-view+json": {
       "model_id": "09564493e8924349977cfe6781b937a6",
       "version_major": 2,
       "version_minor": 0
      },
      "text/plain": [
       "  0%|          | 0/8 [00:00<?, ?it/s]"
      ]
     },
     "metadata": {},
     "output_type": "display_data"
    },
    {
     "data": {
      "application/vnd.jupyter.widget-view+json": {
       "model_id": "34750fc9d8af4457b60fe04af027f294",
       "version_major": 2,
       "version_minor": 0
      },
      "text/plain": [
       "  0%|          | 0/8 [00:00<?, ?it/s]"
      ]
     },
     "metadata": {},
     "output_type": "display_data"
    },
    {
     "data": {
      "application/vnd.jupyter.widget-view+json": {
       "model_id": "f03d7941f7144756b291c96998cd1ec1",
       "version_major": 2,
       "version_minor": 0
      },
      "text/plain": [
       "  0%|          | 0/8 [00:00<?, ?it/s]"
      ]
     },
     "metadata": {},
     "output_type": "display_data"
    },
    {
     "data": {
      "application/vnd.jupyter.widget-view+json": {
       "model_id": "2f7b8e532b544e4c9d3be652ffbde18f",
       "version_major": 2,
       "version_minor": 0
      },
      "text/plain": [
       "  0%|          | 0/8 [00:00<?, ?it/s]"
      ]
     },
     "metadata": {},
     "output_type": "display_data"
    },
    {
     "data": {
      "application/vnd.jupyter.widget-view+json": {
       "model_id": "1b70d9e225d04aef8ca873fd32c0b13b",
       "version_major": 2,
       "version_minor": 0
      },
      "text/plain": [
       "  0%|          | 0/8 [00:00<?, ?it/s]"
      ]
     },
     "metadata": {},
     "output_type": "display_data"
    },
    {
     "data": {
      "application/vnd.jupyter.widget-view+json": {
       "model_id": "f4c0c45b5f094a869968bea2cde55cb9",
       "version_major": 2,
       "version_minor": 0
      },
      "text/plain": [
       "  0%|          | 0/8 [00:00<?, ?it/s]"
      ]
     },
     "metadata": {},
     "output_type": "display_data"
    },
    {
     "data": {
      "application/vnd.jupyter.widget-view+json": {
       "model_id": "7042919dece44429882be20d59ffbc93",
       "version_major": 2,
       "version_minor": 0
      },
      "text/plain": [
       "  0%|          | 0/8 [00:00<?, ?it/s]"
      ]
     },
     "metadata": {},
     "output_type": "display_data"
    },
    {
     "data": {
      "application/vnd.jupyter.widget-view+json": {
       "model_id": "e4db177cb15e453eb07246b568a5b2b4",
       "version_major": 2,
       "version_minor": 0
      },
      "text/plain": [
       "  0%|          | 0/8 [00:00<?, ?it/s]"
      ]
     },
     "metadata": {},
     "output_type": "display_data"
    },
    {
     "data": {
      "application/vnd.jupyter.widget-view+json": {
       "model_id": "54c4b503b8be404b9aef434b01665304",
       "version_major": 2,
       "version_minor": 0
      },
      "text/plain": [
       "  0%|          | 0/8 [00:00<?, ?it/s]"
      ]
     },
     "metadata": {},
     "output_type": "display_data"
    },
    {
     "data": {
      "application/vnd.jupyter.widget-view+json": {
       "model_id": "5eed884447b24026a95e8d4e535fcc45",
       "version_major": 2,
       "version_minor": 0
      },
      "text/plain": [
       "  0%|          | 0/8 [00:00<?, ?it/s]"
      ]
     },
     "metadata": {},
     "output_type": "display_data"
    },
    {
     "data": {
      "application/vnd.jupyter.widget-view+json": {
       "model_id": "40d1b08896a24d328036639880e1109f",
       "version_major": 2,
       "version_minor": 0
      },
      "text/plain": [
       "  0%|          | 0/9 [00:00<?, ?it/s]"
      ]
     },
     "metadata": {},
     "output_type": "display_data"
    },
    {
     "data": {
      "application/vnd.jupyter.widget-view+json": {
       "model_id": "c5b80ba8d9b24503b4787882bb3fad60",
       "version_major": 2,
       "version_minor": 0
      },
      "text/plain": [
       "  0%|          | 0/9 [00:00<?, ?it/s]"
      ]
     },
     "metadata": {},
     "output_type": "display_data"
    },
    {
     "data": {
      "application/vnd.jupyter.widget-view+json": {
       "model_id": "4d5d62f4a2e14a3aa6c6beb7df731521",
       "version_major": 2,
       "version_minor": 0
      },
      "text/plain": [
       "  0%|          | 0/9 [00:00<?, ?it/s]"
      ]
     },
     "metadata": {},
     "output_type": "display_data"
    },
    {
     "data": {
      "application/vnd.jupyter.widget-view+json": {
       "model_id": "c71c4e41f79b49cd8b579a765038833e",
       "version_major": 2,
       "version_minor": 0
      },
      "text/plain": [
       "  0%|          | 0/9 [00:00<?, ?it/s]"
      ]
     },
     "metadata": {},
     "output_type": "display_data"
    },
    {
     "data": {
      "application/vnd.jupyter.widget-view+json": {
       "model_id": "47682eb2c6084ef59a97b16c900c91f5",
       "version_major": 2,
       "version_minor": 0
      },
      "text/plain": [
       "  0%|          | 0/9 [00:00<?, ?it/s]"
      ]
     },
     "metadata": {},
     "output_type": "display_data"
    },
    {
     "data": {
      "application/vnd.jupyter.widget-view+json": {
       "model_id": "ba633e2894754567b97f0e2ef214ca6a",
       "version_major": 2,
       "version_minor": 0
      },
      "text/plain": [
       "  0%|          | 0/9 [00:00<?, ?it/s]"
      ]
     },
     "metadata": {},
     "output_type": "display_data"
    },
    {
     "data": {
      "application/vnd.jupyter.widget-view+json": {
       "model_id": "813f861b181b47e085ad1ec2e5ee4e38",
       "version_major": 2,
       "version_minor": 0
      },
      "text/plain": [
       "  0%|          | 0/9 [00:00<?, ?it/s]"
      ]
     },
     "metadata": {},
     "output_type": "display_data"
    },
    {
     "data": {
      "application/vnd.jupyter.widget-view+json": {
       "model_id": "6d8819eb7b254832b33e6f32f55d1128",
       "version_major": 2,
       "version_minor": 0
      },
      "text/plain": [
       "  0%|          | 0/9 [00:00<?, ?it/s]"
      ]
     },
     "metadata": {},
     "output_type": "display_data"
    },
    {
     "data": {
      "application/vnd.jupyter.widget-view+json": {
       "model_id": "c0df6011fed446518bde507d97f351c5",
       "version_major": 2,
       "version_minor": 0
      },
      "text/plain": [
       "  0%|          | 0/9 [00:00<?, ?it/s]"
      ]
     },
     "metadata": {},
     "output_type": "display_data"
    },
    {
     "data": {
      "application/vnd.jupyter.widget-view+json": {
       "model_id": "37e363fbd4074a35bbafd07b12cf7478",
       "version_major": 2,
       "version_minor": 0
      },
      "text/plain": [
       "  0%|          | 0/9 [00:00<?, ?it/s]"
      ]
     },
     "metadata": {},
     "output_type": "display_data"
    },
    {
     "data": {
      "application/vnd.jupyter.widget-view+json": {
       "model_id": "f74e5e08b64846d884b6c568782f92a8",
       "version_major": 2,
       "version_minor": 0
      },
      "text/plain": [
       "  0%|          | 0/9 [00:00<?, ?it/s]"
      ]
     },
     "metadata": {},
     "output_type": "display_data"
    },
    {
     "data": {
      "application/vnd.jupyter.widget-view+json": {
       "model_id": "b4d0699c7c1946abaad734846ae5169a",
       "version_major": 2,
       "version_minor": 0
      },
      "text/plain": [
       "  0%|          | 0/10 [00:00<?, ?it/s]"
      ]
     },
     "metadata": {},
     "output_type": "display_data"
    },
    {
     "data": {
      "application/vnd.jupyter.widget-view+json": {
       "model_id": "99efe645cae441c4a60a79c151d1a4c4",
       "version_major": 2,
       "version_minor": 0
      },
      "text/plain": [
       "  0%|          | 0/10 [00:00<?, ?it/s]"
      ]
     },
     "metadata": {},
     "output_type": "display_data"
    },
    {
     "data": {
      "application/vnd.jupyter.widget-view+json": {
       "model_id": "98a2788ffbb748fd9de6ad9662ad1cf6",
       "version_major": 2,
       "version_minor": 0
      },
      "text/plain": [
       "  0%|          | 0/10 [00:00<?, ?it/s]"
      ]
     },
     "metadata": {},
     "output_type": "display_data"
    },
    {
     "data": {
      "application/vnd.jupyter.widget-view+json": {
       "model_id": "9aeb2826525e40c0ac14a0ef1761ebb0",
       "version_major": 2,
       "version_minor": 0
      },
      "text/plain": [
       "  0%|          | 0/10 [00:00<?, ?it/s]"
      ]
     },
     "metadata": {},
     "output_type": "display_data"
    },
    {
     "data": {
      "application/vnd.jupyter.widget-view+json": {
       "model_id": "ad0bbde8339c4890a6f8309e3dca4974",
       "version_major": 2,
       "version_minor": 0
      },
      "text/plain": [
       "  0%|          | 0/10 [00:00<?, ?it/s]"
      ]
     },
     "metadata": {},
     "output_type": "display_data"
    },
    {
     "data": {
      "application/vnd.jupyter.widget-view+json": {
       "model_id": "023f5689b0a24fdcb1971c777c915b2d",
       "version_major": 2,
       "version_minor": 0
      },
      "text/plain": [
       "  0%|          | 0/10 [00:00<?, ?it/s]"
      ]
     },
     "metadata": {},
     "output_type": "display_data"
    },
    {
     "data": {
      "application/vnd.jupyter.widget-view+json": {
       "model_id": "9bf68f4a92324f03944a633010c0d7fe",
       "version_major": 2,
       "version_minor": 0
      },
      "text/plain": [
       "  0%|          | 0/10 [00:00<?, ?it/s]"
      ]
     },
     "metadata": {},
     "output_type": "display_data"
    },
    {
     "data": {
      "application/vnd.jupyter.widget-view+json": {
       "model_id": "ecc1e95658d04868bf88af1ff5cc225b",
       "version_major": 2,
       "version_minor": 0
      },
      "text/plain": [
       "  0%|          | 0/10 [00:00<?, ?it/s]"
      ]
     },
     "metadata": {},
     "output_type": "display_data"
    },
    {
     "data": {
      "application/vnd.jupyter.widget-view+json": {
       "model_id": "3fde7fef83254225bd64c35968ddc17b",
       "version_major": 2,
       "version_minor": 0
      },
      "text/plain": [
       "  0%|          | 0/10 [00:00<?, ?it/s]"
      ]
     },
     "metadata": {},
     "output_type": "display_data"
    },
    {
     "data": {
      "application/vnd.jupyter.widget-view+json": {
       "model_id": "0603edde101644cdb9c547a337a1d8af",
       "version_major": 2,
       "version_minor": 0
      },
      "text/plain": [
       "  0%|          | 0/10 [00:00<?, ?it/s]"
      ]
     },
     "metadata": {},
     "output_type": "display_data"
    },
    {
     "data": {
      "application/vnd.jupyter.widget-view+json": {
       "model_id": "c7484e6bc9f04434927feb3bdc08b298",
       "version_major": 2,
       "version_minor": 0
      },
      "text/plain": [
       "  0%|          | 0/10 [00:00<?, ?it/s]"
      ]
     },
     "metadata": {},
     "output_type": "display_data"
    },
    {
     "data": {
      "application/vnd.jupyter.widget-view+json": {
       "model_id": "d6a5969f00d94c30a08fae5e9978015f",
       "version_major": 2,
       "version_minor": 0
      },
      "text/plain": [
       "  0%|          | 0/11 [00:00<?, ?it/s]"
      ]
     },
     "metadata": {},
     "output_type": "display_data"
    },
    {
     "data": {
      "application/vnd.jupyter.widget-view+json": {
       "model_id": "75af34f32b4f4db8bfc29a70ee9e835e",
       "version_major": 2,
       "version_minor": 0
      },
      "text/plain": [
       "  0%|          | 0/11 [00:00<?, ?it/s]"
      ]
     },
     "metadata": {},
     "output_type": "display_data"
    },
    {
     "data": {
      "application/vnd.jupyter.widget-view+json": {
       "model_id": "341a59438ec64bf4876e5a7cdc4a70b7",
       "version_major": 2,
       "version_minor": 0
      },
      "text/plain": [
       "  0%|          | 0/11 [00:00<?, ?it/s]"
      ]
     },
     "metadata": {},
     "output_type": "display_data"
    },
    {
     "data": {
      "application/vnd.jupyter.widget-view+json": {
       "model_id": "3cd61f8dc7574f6c915444e7f23d87c6",
       "version_major": 2,
       "version_minor": 0
      },
      "text/plain": [
       "  0%|          | 0/11 [00:00<?, ?it/s]"
      ]
     },
     "metadata": {},
     "output_type": "display_data"
    },
    {
     "data": {
      "application/vnd.jupyter.widget-view+json": {
       "model_id": "00015e5d49d8409dbeb2302393a3f360",
       "version_major": 2,
       "version_minor": 0
      },
      "text/plain": [
       "  0%|          | 0/11 [00:00<?, ?it/s]"
      ]
     },
     "metadata": {},
     "output_type": "display_data"
    },
    {
     "data": {
      "application/vnd.jupyter.widget-view+json": {
       "model_id": "dee5a0aa09b84922801ebeb4803f5c38",
       "version_major": 2,
       "version_minor": 0
      },
      "text/plain": [
       "  0%|          | 0/11 [00:00<?, ?it/s]"
      ]
     },
     "metadata": {},
     "output_type": "display_data"
    },
    {
     "data": {
      "application/vnd.jupyter.widget-view+json": {
       "model_id": "a67d4ea4e36f45c7992103d817a2a7f4",
       "version_major": 2,
       "version_minor": 0
      },
      "text/plain": [
       "  0%|          | 0/11 [00:00<?, ?it/s]"
      ]
     },
     "metadata": {},
     "output_type": "display_data"
    },
    {
     "data": {
      "application/vnd.jupyter.widget-view+json": {
       "model_id": "d52887d03bc24241bcc8c2a8d4b0dbf9",
       "version_major": 2,
       "version_minor": 0
      },
      "text/plain": [
       "  0%|          | 0/11 [00:00<?, ?it/s]"
      ]
     },
     "metadata": {},
     "output_type": "display_data"
    },
    {
     "data": {
      "application/vnd.jupyter.widget-view+json": {
       "model_id": "0814a0759825493c8ee7e2785927d70c",
       "version_major": 2,
       "version_minor": 0
      },
      "text/plain": [
       "  0%|          | 0/11 [00:00<?, ?it/s]"
      ]
     },
     "metadata": {},
     "output_type": "display_data"
    },
    {
     "data": {
      "application/vnd.jupyter.widget-view+json": {
       "model_id": "fdcb2b241b1e4951be9c96eb292ed4f5",
       "version_major": 2,
       "version_minor": 0
      },
      "text/plain": [
       "  0%|          | 0/11 [00:00<?, ?it/s]"
      ]
     },
     "metadata": {},
     "output_type": "display_data"
    },
    {
     "data": {
      "application/vnd.jupyter.widget-view+json": {
       "model_id": "56bd4a5cb5cb4020a855509e2f07b7d8",
       "version_major": 2,
       "version_minor": 0
      },
      "text/plain": [
       "  0%|          | 0/11 [00:00<?, ?it/s]"
      ]
     },
     "metadata": {},
     "output_type": "display_data"
    }
   ],
   "source": [
    "Ltotal = np.arange(600, 1200, 100)\n",
    "ratio  = np.arange(0, 1.1, 0.1)\n",
    "BER = np.zeros((len(Ltotal), len(ratio)))\n",
    "\n",
    "for i, L in enumerate(Ltotal):\n",
    "    paramCh.Ltotal = L\n",
    "    for j, R in enumerate(ratio):\n",
    "        paramTx.Vb = -R*paramTx.Vπ\n",
    "        sigTxo, symbTx, t, pulse, pilot = Tx(paramTx)\n",
    "        sigRxo,_  = ssfm(sigTxo, paramTx.Fa, paramCh)\n",
    "        symbRx, symbRx_neq, H_abs, H_pha = Rx(sigRxo, pilot, pulse, t, paramRx)\n",
    "        \n",
    "        symbRx[0::int(paramTx.N/2)] = 'nan'\n",
    "        symbTx[0::int(paramTx.N/2)] = 'nan'\n",
    "\n",
    "        symbTx = symbTx[~np.isnan(symbTx)]\n",
    "        symbRx = symbRx[~np.isnan(symbRx)]\n",
    "\n",
    "        # Cálculo da BER\n",
    "        BER[i][j] = fastBERcalc(symbRx, symbTx, paramTx.M, 'qam')[0]"
   ]
  },
  {
   "cell_type": "code",
   "execution_count": 32,
   "id": "f126ebe4",
   "metadata": {},
   "outputs": [
    {
     "name": "stderr",
     "output_type": "stream",
     "text": [
      "C:\\Users\\embedded05\\Anaconda3\\lib\\site-packages\\ipykernel_launcher.py:4: RuntimeWarning: divide by zero encountered in log10\n",
      "  after removing the cwd from sys.path.\n"
     ]
    },
    {
     "data": {
      "image/png": "[encoded data removed]",
      "text/plain": [
       "<Figure size 720x576 with 1 Axes>"
      ]
     },
     "metadata": {
      "needs_background": "light"
     },
     "output_type": "display_data"
    }
   ],
   "source": [
    "plt.figure(figsize = (10, 8 ))\n",
    "\n",
    "for i in range(len(BER)):\n",
    "    plt.plot(ratio, np.log10(BER[i,:]), '-o', label = f\"L = {Ltotal[i]} km\")\n",
    "\n",
    "plt.ylabel(r\"$\\log(BER)$\")\n",
    "plt.xlabel(r\"$V_{bias}/V_{\\pi}$\")\n",
    "plt.legend()\n",
    "plt.grid()"
   ]
  },
  {
   "cell_type": "markdown",
   "id": "4745a886",
   "metadata": {},
   "source": [
    "### 1.2 - Índice de modulação $h$"
   ]
  },
  {
   "cell_type": "code",
   "execution_count": 9,
   "id": "bac4797a",
   "metadata": {},
   "outputs": [
    {
     "data": {
      "application/vnd.jupyter.widget-view+json": {
       "model_id": "32fff51e766a4ab58a16abd9cfa55b9b",
       "version_major": 2,
       "version_minor": 0
      },
      "text/plain": [
       "  0%|          | 0/6 [00:00<?, ?it/s]"
      ]
     },
     "metadata": {},
     "output_type": "display_data"
    },
    {
     "data": {
      "application/vnd.jupyter.widget-view+json": {
       "model_id": "d66075487354439d99ed57e3f5b5e98a",
       "version_major": 2,
       "version_minor": 0
      },
      "text/plain": [
       "  0%|          | 0/6 [00:00<?, ?it/s]"
      ]
     },
     "metadata": {},
     "output_type": "display_data"
    },
    {
     "data": {
      "application/vnd.jupyter.widget-view+json": {
       "model_id": "869dc2ee607540f5b669f07ccdf3fa8e",
       "version_major": 2,
       "version_minor": 0
      },
      "text/plain": [
       "  0%|          | 0/6 [00:00<?, ?it/s]"
      ]
     },
     "metadata": {},
     "output_type": "display_data"
    },
    {
     "data": {
      "application/vnd.jupyter.widget-view+json": {
       "model_id": "53cd38a18e3f4ac296d5d52f75878415",
       "version_major": 2,
       "version_minor": 0
      },
      "text/plain": [
       "  0%|          | 0/6 [00:00<?, ?it/s]"
      ]
     },
     "metadata": {},
     "output_type": "display_data"
    },
    {
     "data": {
      "application/vnd.jupyter.widget-view+json": {
       "model_id": "1f0630860a284e688e7560554e922f9f",
       "version_major": 2,
       "version_minor": 0
      },
      "text/plain": [
       "  0%|          | 0/6 [00:00<?, ?it/s]"
      ]
     },
     "metadata": {},
     "output_type": "display_data"
    },
    {
     "data": {
      "application/vnd.jupyter.widget-view+json": {
       "model_id": "f408a162039a43c5bfc86874184a9e8b",
       "version_major": 2,
       "version_minor": 0
      },
      "text/plain": [
       "  0%|          | 0/6 [00:00<?, ?it/s]"
      ]
     },
     "metadata": {},
     "output_type": "display_data"
    },
    {
     "data": {
      "application/vnd.jupyter.widget-view+json": {
       "model_id": "56d8c0933c8f4196a6af3027741cfc13",
       "version_major": 2,
       "version_minor": 0
      },
      "text/plain": [
       "  0%|          | 0/6 [00:00<?, ?it/s]"
      ]
     },
     "metadata": {},
     "output_type": "display_data"
    },
    {
     "data": {
      "application/vnd.jupyter.widget-view+json": {
       "model_id": "ba32f732b28348fcb094f5092b113287",
       "version_major": 2,
       "version_minor": 0
      },
      "text/plain": [
       "  0%|          | 0/7 [00:00<?, ?it/s]"
      ]
     },
     "metadata": {},
     "output_type": "display_data"
    },
    {
     "data": {
      "application/vnd.jupyter.widget-view+json": {
       "model_id": "18454965912e41d496b65aeaf3a982c8",
       "version_major": 2,
       "version_minor": 0
      },
      "text/plain": [
       "  0%|          | 0/7 [00:00<?, ?it/s]"
      ]
     },
     "metadata": {},
     "output_type": "display_data"
    },
    {
     "data": {
      "application/vnd.jupyter.widget-view+json": {
       "model_id": "7e01e4f47cb148418174ec5692b67f46",
       "version_major": 2,
       "version_minor": 0
      },
      "text/plain": [
       "  0%|          | 0/7 [00:00<?, ?it/s]"
      ]
     },
     "metadata": {},
     "output_type": "display_data"
    },
    {
     "data": {
      "application/vnd.jupyter.widget-view+json": {
       "model_id": "fcd8788821e741a691dbf1659237e6c5",
       "version_major": 2,
       "version_minor": 0
      },
      "text/plain": [
       "  0%|          | 0/7 [00:00<?, ?it/s]"
      ]
     },
     "metadata": {},
     "output_type": "display_data"
    },
    {
     "data": {
      "application/vnd.jupyter.widget-view+json": {
       "model_id": "27133f35f293402db848aeba38355f8f",
       "version_major": 2,
       "version_minor": 0
      },
      "text/plain": [
       "  0%|          | 0/7 [00:00<?, ?it/s]"
      ]
     },
     "metadata": {},
     "output_type": "display_data"
    },
    {
     "data": {
      "application/vnd.jupyter.widget-view+json": {
       "model_id": "7ae7cc2b5f684c6dbc91e076abb12809",
       "version_major": 2,
       "version_minor": 0
      },
      "text/plain": [
       "  0%|          | 0/7 [00:00<?, ?it/s]"
      ]
     },
     "metadata": {},
     "output_type": "display_data"
    },
    {
     "data": {
      "application/vnd.jupyter.widget-view+json": {
       "model_id": "37e9bf52f7194856a8b62dade74d4ba8",
       "version_major": 2,
       "version_minor": 0
      },
      "text/plain": [
       "  0%|          | 0/7 [00:00<?, ?it/s]"
      ]
     },
     "metadata": {},
     "output_type": "display_data"
    },
    {
     "data": {
      "application/vnd.jupyter.widget-view+json": {
       "model_id": "7142f99eb2574588b6e12654cfe292f0",
       "version_major": 2,
       "version_minor": 0
      },
      "text/plain": [
       "  0%|          | 0/8 [00:00<?, ?it/s]"
      ]
     },
     "metadata": {},
     "output_type": "display_data"
    },
    {
     "data": {
      "application/vnd.jupyter.widget-view+json": {
       "model_id": "18f3973c7add48b19ef262d5118d9b16",
       "version_major": 2,
       "version_minor": 0
      },
      "text/plain": [
       "  0%|          | 0/8 [00:00<?, ?it/s]"
      ]
     },
     "metadata": {},
     "output_type": "display_data"
    },
    {
     "data": {
      "application/vnd.jupyter.widget-view+json": {
       "model_id": "20eae9de8d03497789760dda18f3e6de",
       "version_major": 2,
       "version_minor": 0
      },
      "text/plain": [
       "  0%|          | 0/8 [00:00<?, ?it/s]"
      ]
     },
     "metadata": {},
     "output_type": "display_data"
    },
    {
     "data": {
      "application/vnd.jupyter.widget-view+json": {
       "model_id": "6b5da779b4e94d97b5e11ad13e3212e0",
       "version_major": 2,
       "version_minor": 0
      },
      "text/plain": [
       "  0%|          | 0/8 [00:00<?, ?it/s]"
      ]
     },
     "metadata": {},
     "output_type": "display_data"
    },
    {
     "data": {
      "application/vnd.jupyter.widget-view+json": {
       "model_id": "4256fdf5b70e478a9b4f063462f87f15",
       "version_major": 2,
       "version_minor": 0
      },
      "text/plain": [
       "  0%|          | 0/8 [00:00<?, ?it/s]"
      ]
     },
     "metadata": {},
     "output_type": "display_data"
    },
    {
     "data": {
      "application/vnd.jupyter.widget-view+json": {
       "model_id": "4913c59948554b199b90ca95dfb53284",
       "version_major": 2,
       "version_minor": 0
      },
      "text/plain": [
       "  0%|          | 0/8 [00:00<?, ?it/s]"
      ]
     },
     "metadata": {},
     "output_type": "display_data"
    },
    {
     "data": {
      "application/vnd.jupyter.widget-view+json": {
       "model_id": "c580cff85432454e8ca6bd089641db9f",
       "version_major": 2,
       "version_minor": 0
      },
      "text/plain": [
       "  0%|          | 0/8 [00:00<?, ?it/s]"
      ]
     },
     "metadata": {},
     "output_type": "display_data"
    },
    {
     "data": {
      "application/vnd.jupyter.widget-view+json": {
       "model_id": "1dde8e23152149abbc3e8a1040c66a9f",
       "version_major": 2,
       "version_minor": 0
      },
      "text/plain": [
       "  0%|          | 0/9 [00:00<?, ?it/s]"
      ]
     },
     "metadata": {},
     "output_type": "display_data"
    },
    {
     "data": {
      "application/vnd.jupyter.widget-view+json": {
       "model_id": "ac9bc3e7c1df456892bd0d5f341e7f7f",
       "version_major": 2,
       "version_minor": 0
      },
      "text/plain": [
       "  0%|          | 0/9 [00:00<?, ?it/s]"
      ]
     },
     "metadata": {},
     "output_type": "display_data"
    },
    {
     "data": {
      "application/vnd.jupyter.widget-view+json": {
       "model_id": "3befb5d63840415184bcd5ffa2a40f2b",
       "version_major": 2,
       "version_minor": 0
      },
      "text/plain": [
       "  0%|          | 0/9 [00:00<?, ?it/s]"
      ]
     },
     "metadata": {},
     "output_type": "display_data"
    },
    {
     "data": {
      "application/vnd.jupyter.widget-view+json": {
       "model_id": "aa6a4334ad654e5494abdcf55236bace",
       "version_major": 2,
       "version_minor": 0
      },
      "text/plain": [
       "  0%|          | 0/9 [00:00<?, ?it/s]"
      ]
     },
     "metadata": {},
     "output_type": "display_data"
    },
    {
     "data": {
      "application/vnd.jupyter.widget-view+json": {
       "model_id": "057bcd37bf8344b7b916d31b438720db",
       "version_major": 2,
       "version_minor": 0
      },
      "text/plain": [
       "  0%|          | 0/9 [00:00<?, ?it/s]"
      ]
     },
     "metadata": {},
     "output_type": "display_data"
    },
    {
     "data": {
      "application/vnd.jupyter.widget-view+json": {
       "model_id": "329bcfa569e741819fa381f39dc9c937",
       "version_major": 2,
       "version_minor": 0
      },
      "text/plain": [
       "  0%|          | 0/9 [00:00<?, ?it/s]"
      ]
     },
     "metadata": {},
     "output_type": "display_data"
    },
    {
     "data": {
      "application/vnd.jupyter.widget-view+json": {
       "model_id": "e7ab143a2bdc4e6a8fe5b7564a12ee9f",
       "version_major": 2,
       "version_minor": 0
      },
      "text/plain": [
       "  0%|          | 0/9 [00:00<?, ?it/s]"
      ]
     },
     "metadata": {},
     "output_type": "display_data"
    },
    {
     "data": {
      "application/vnd.jupyter.widget-view+json": {
       "model_id": "4b00d26e07ec40358a3a7206b6bb852f",
       "version_major": 2,
       "version_minor": 0
      },
      "text/plain": [
       "  0%|          | 0/10 [00:00<?, ?it/s]"
      ]
     },
     "metadata": {},
     "output_type": "display_data"
    },
    {
     "data": {
      "application/vnd.jupyter.widget-view+json": {
       "model_id": "3d601d2e7fb04d74bc0bb60b2050b186",
       "version_major": 2,
       "version_minor": 0
      },
      "text/plain": [
       "  0%|          | 0/10 [00:00<?, ?it/s]"
      ]
     },
     "metadata": {},
     "output_type": "display_data"
    },
    {
     "data": {
      "application/vnd.jupyter.widget-view+json": {
       "model_id": "7fe5e7cea27b4690828a1ca8a0fdc4ae",
       "version_major": 2,
       "version_minor": 0
      },
      "text/plain": [
       "  0%|          | 0/10 [00:00<?, ?it/s]"
      ]
     },
     "metadata": {},
     "output_type": "display_data"
    },
    {
     "data": {
      "application/vnd.jupyter.widget-view+json": {
       "model_id": "87ffd395fcd7412c9a407fc83be8b45e",
       "version_major": 2,
       "version_minor": 0
      },
      "text/plain": [
       "  0%|          | 0/10 [00:00<?, ?it/s]"
      ]
     },
     "metadata": {},
     "output_type": "display_data"
    },
    {
     "data": {
      "application/vnd.jupyter.widget-view+json": {
       "model_id": "960777fbb61b4cb6b133c8eaf1dc1129",
       "version_major": 2,
       "version_minor": 0
      },
      "text/plain": [
       "  0%|          | 0/10 [00:00<?, ?it/s]"
      ]
     },
     "metadata": {},
     "output_type": "display_data"
    },
    {
     "data": {
      "application/vnd.jupyter.widget-view+json": {
       "model_id": "2979d60698554b3f9cde0f722fb15f24",
       "version_major": 2,
       "version_minor": 0
      },
      "text/plain": [
       "  0%|          | 0/10 [00:00<?, ?it/s]"
      ]
     },
     "metadata": {},
     "output_type": "display_data"
    },
    {
     "data": {
      "application/vnd.jupyter.widget-view+json": {
       "model_id": "519343934dbf48ee81876b6708065f8c",
       "version_major": 2,
       "version_minor": 0
      },
      "text/plain": [
       "  0%|          | 0/10 [00:00<?, ?it/s]"
      ]
     },
     "metadata": {},
     "output_type": "display_data"
    },
    {
     "data": {
      "application/vnd.jupyter.widget-view+json": {
       "model_id": "0f479d9109824ba880ca784e72f5ee7b",
       "version_major": 2,
       "version_minor": 0
      },
      "text/plain": [
       "  0%|          | 0/11 [00:00<?, ?it/s]"
      ]
     },
     "metadata": {},
     "output_type": "display_data"
    },
    {
     "data": {
      "application/vnd.jupyter.widget-view+json": {
       "model_id": "97ced5596e294cdbb55b2a305c444b2e",
       "version_major": 2,
       "version_minor": 0
      },
      "text/plain": [
       "  0%|          | 0/11 [00:00<?, ?it/s]"
      ]
     },
     "metadata": {},
     "output_type": "display_data"
    },
    {
     "data": {
      "application/vnd.jupyter.widget-view+json": {
       "model_id": "0a037759d3b949319589d13d16163715",
       "version_major": 2,
       "version_minor": 0
      },
      "text/plain": [
       "  0%|          | 0/11 [00:00<?, ?it/s]"
      ]
     },
     "metadata": {},
     "output_type": "display_data"
    },
    {
     "data": {
      "application/vnd.jupyter.widget-view+json": {
       "model_id": "52f4e1602dc64d2fb59df72163f66739",
       "version_major": 2,
       "version_minor": 0
      },
      "text/plain": [
       "  0%|          | 0/11 [00:00<?, ?it/s]"
      ]
     },
     "metadata": {},
     "output_type": "display_data"
    },
    {
     "data": {
      "application/vnd.jupyter.widget-view+json": {
       "model_id": "5aade1159a16445692e1ebbcade428b7",
       "version_major": 2,
       "version_minor": 0
      },
      "text/plain": [
       "  0%|          | 0/11 [00:00<?, ?it/s]"
      ]
     },
     "metadata": {},
     "output_type": "display_data"
    },
    {
     "data": {
      "application/vnd.jupyter.widget-view+json": {
       "model_id": "187d5e82c3ff4de39a2ff059ae7712ae",
       "version_major": 2,
       "version_minor": 0
      },
      "text/plain": [
       "  0%|          | 0/11 [00:00<?, ?it/s]"
      ]
     },
     "metadata": {},
     "output_type": "display_data"
    },
    {
     "data": {
      "application/vnd.jupyter.widget-view+json": {
       "model_id": "5d4572227fa04bf7a1c01c178b387677",
       "version_major": 2,
       "version_minor": 0
      },
      "text/plain": [
       "  0%|          | 0/11 [00:00<?, ?it/s]"
      ]
     },
     "metadata": {},
     "output_type": "display_data"
    }
   ],
   "source": [
    "Ltotal = np.arange(600, 1200, 100)\n",
    "H  = np.arange(0.2, 0.55, 0.05) / (2*pi) \n",
    "BER = np.zeros((len(Ltotal), len(H)))\n",
    "paramTx.Vb = -0.5*paramTx.Vπ\n",
    "\n",
    "for i, L in enumerate(Ltotal):\n",
    "    paramCh.Ltotal = L\n",
    "    for j in range(len(H)):\n",
    "        paramTx.H = H[j]\n",
    "        paramRx.H = H[j]\n",
    "        sigTxo, symbTx, t, pulse, pilot = Tx(paramTx)\n",
    "        sigRxo,_  = ssfm(sigTxo, paramTx.Fa, paramCh)\n",
    "        symbRx, symbRx_neq, H_abs, H_pha = Rx(sigRxo, pilot, pulse, t, paramRx)\n",
    "        \n",
    "        symbRx[0::int(paramTx.N/2)] = 'nan'\n",
    "        symbTx[0::int(paramTx.N/2)] = 'nan'\n",
    "\n",
    "        symbTx = symbTx[~np.isnan(symbTx)]\n",
    "        symbRx = symbRx[~np.isnan(symbRx)]\n",
    "\n",
    "        # Cálculo da BER\n",
    "        BER[i][j] = fastBERcalc(symbRx, symbTx, paramTx.M, 'qam')[0]"
   ]
  },
  {
   "cell_type": "code",
   "execution_count": 12,
   "id": "20ccb3ab",
   "metadata": {},
   "outputs": [
    {
     "name": "stderr",
     "output_type": "stream",
     "text": [
      "C:\\Users\\embedded05\\Anaconda3\\lib\\site-packages\\ipykernel_launcher.py:4: RuntimeWarning: divide by zero encountered in log10\n",
      "  after removing the cwd from sys.path.\n"
     ]
    },
    {
     "data": {
      "image/png": "[encoded data removed]",
      "text/plain": [
       "<Figure size 720x576 with 1 Axes>"
      ]
     },
     "metadata": {
      "needs_background": "light"
     },
     "output_type": "display_data"
    }
   ],
   "source": [
    "plt.figure(figsize = (10, 8 ))\n",
    "\n",
    "for i in range(len(BER)):\n",
    "    plt.plot(H*(2*pi), np.log10(BER[i,:]), '-o', label = f\"L = {Ltotal[i]} km\")\n",
    "\n",
    "plt.ylabel(r\"$\\log(BER)$\")\n",
    "plt.xlabel(r\"$h$\")\n",
    "plt.legend()\n",
    "plt.grid()"
   ]
  },
  {
   "cell_type": "markdown",
   "id": "058991f5",
   "metadata": {},
   "source": [
    "### 5.1 - Variando a potência de entrada"
   ]
  },
  {
   "cell_type": "code",
   "execution_count": 19,
   "id": "efcba99c",
   "metadata": {},
   "outputs": [
    {
     "data": {
      "application/vnd.jupyter.widget-view+json": {
       "model_id": "71398515a5804f27a74708acf63d3d72",
       "version_major": 2,
       "version_minor": 0
      },
      "text/plain": [
       "  0%|          | 0/6 [00:00<?, ?it/s]"
      ]
     },
     "metadata": {},
     "output_type": "display_data"
    },
    {
     "data": {
      "application/vnd.jupyter.widget-view+json": {
       "model_id": "7c6fbf660c4142658d49af08e63db564",
       "version_major": 2,
       "version_minor": 0
      },
      "text/plain": [
       "  0%|          | 0/7 [00:00<?, ?it/s]"
      ]
     },
     "metadata": {},
     "output_type": "display_data"
    },
    {
     "data": {
      "application/vnd.jupyter.widget-view+json": {
       "model_id": "5c992beca47d4c56a886f28f97f0d185",
       "version_major": 2,
       "version_minor": 0
      },
      "text/plain": [
       "  0%|          | 0/8 [00:00<?, ?it/s]"
      ]
     },
     "metadata": {},
     "output_type": "display_data"
    },
    {
     "data": {
      "application/vnd.jupyter.widget-view+json": {
       "model_id": "73bba4b64c2d458ab54a0f694f287076",
       "version_major": 2,
       "version_minor": 0
      },
      "text/plain": [
       "  0%|          | 0/9 [00:00<?, ?it/s]"
      ]
     },
     "metadata": {},
     "output_type": "display_data"
    },
    {
     "data": {
      "application/vnd.jupyter.widget-view+json": {
       "model_id": "039b4578a8a1437eaeeeb6d79351cd75",
       "version_major": 2,
       "version_minor": 0
      },
      "text/plain": [
       "  0%|          | 0/10 [00:00<?, ?it/s]"
      ]
     },
     "metadata": {},
     "output_type": "display_data"
    },
    {
     "data": {
      "application/vnd.jupyter.widget-view+json": {
       "model_id": "6e7c7e6312ba44c8bf870285fcf87f3d",
       "version_major": 2,
       "version_minor": 0
      },
      "text/plain": [
       "  0%|          | 0/11 [00:00<?, ?it/s]"
      ]
     },
     "metadata": {},
     "output_type": "display_data"
    },
    {
     "data": {
      "application/vnd.jupyter.widget-view+json": {
       "model_id": "44a9a2bef55d494588d04460dcf6adf1",
       "version_major": 2,
       "version_minor": 0
      },
      "text/plain": [
       "  0%|          | 0/12 [00:00<?, ?it/s]"
      ]
     },
     "metadata": {},
     "output_type": "display_data"
    }
   ],
   "source": [
    "# Pi = 2 dBm\n",
    "Ltotal = np.arange(600, 1300, 100)\n",
    "H  = np.array([0.35, 0.35, 0.35, 0.35, 0.35, 0.4, 0.4])/(2*pi)\n",
    "BER = np.zeros(len(Ltotal))\n",
    "paramTx.Vb = -0.5*paramTx.Vπ\n",
    "\n",
    "for j, L in enumerate(Ltotal):\n",
    "    paramCh.Ltotal = L\n",
    "    paramTx.H = H[j]\n",
    "    paramRx.H = H[j]\n",
    "    sigTxo, symbTx, t, pulse, pilot = Tx(paramTx)\n",
    "    sigRxo,_  = ssfm(sigTxo, paramTx.Fa, paramCh)\n",
    "    symbRx, symbRx_neq, H_abs, H_pha = Rx(sigRxo, pilot, pulse, t, paramRx)\n",
    "    \n",
    "    symbRx[0::int(paramTx.N/2)] = 'nan'\n",
    "    symbTx[0::int(paramTx.N/2)] = 'nan'\n",
    "\n",
    "    symbTx = symbTx[~np.isnan(symbTx)]\n",
    "    symbRx = symbRx[~np.isnan(symbRx)]\n",
    "    \n",
    "    # Cálculo da BER\n",
    "    BER[j] = fastBERcalc(symbRx, symbTx, paramTx.M, 'qam')[0]"
   ]
  },
  {
   "cell_type": "code",
   "execution_count": 20,
   "id": "d5db3edf",
   "metadata": {},
   "outputs": [
    {
     "name": "stderr",
     "output_type": "stream",
     "text": [
      "C:\\Users\\embedded05\\Anaconda3\\lib\\site-packages\\ipykernel_launcher.py:2: RuntimeWarning: divide by zero encountered in log10\n",
      "  \n"
     ]
    },
    {
     "data": {
      "image/png": "[encoded data removed]",
      "text/plain": [
       "<Figure size 720x576 with 1 Axes>"
      ]
     },
     "metadata": {
      "needs_background": "light"
     },
     "output_type": "display_data"
    }
   ],
   "source": [
    "plt.figure(figsize = (10, 8))\n",
    "plt.plot(Ltotal, np.log10(BER), '-o')\n",
    "\n",
    "plt.ylabel(r\"$\\log(BER)$\")\n",
    "plt.xlabel(r\"$L [km]$\")\n",
    "plt.grid()"
   ]
  },
  {
   "cell_type": "code",
   "execution_count": 21,
   "id": "4bbdcafa",
   "metadata": {},
   "outputs": [
    {
     "data": {
      "text/plain": [
       "array([0.00000000e+00, 0.00000000e+00, 0.00000000e+00, 0.00000000e+00,\n",
       "       8.16993464e-05, 3.11478758e-04, 1.45526961e-03])"
      ]
     },
     "execution_count": 21,
     "metadata": {},
     "output_type": "execute_result"
    }
   ],
   "source": [
    "BER"
   ]
  },
  {
   "cell_type": "code",
   "execution_count": 22,
   "id": "2e00f737",
   "metadata": {},
   "outputs": [
    {
     "data": {
      "application/vnd.jupyter.widget-view+json": {
       "model_id": "c73d3ee026af43ebbd878dde3b5a2c02",
       "version_major": 2,
       "version_minor": 0
      },
      "text/plain": [
       "  0%|          | 0/6 [00:00<?, ?it/s]"
      ]
     },
     "metadata": {},
     "output_type": "display_data"
    },
    {
     "data": {
      "application/vnd.jupyter.widget-view+json": {
       "model_id": "570e92db0ca047609e7f4477ba48092c",
       "version_major": 2,
       "version_minor": 0
      },
      "text/plain": [
       "  0%|          | 0/7 [00:00<?, ?it/s]"
      ]
     },
     "metadata": {},
     "output_type": "display_data"
    },
    {
     "data": {
      "application/vnd.jupyter.widget-view+json": {
       "model_id": "8ec598ce194449b797506b0919aa0bc3",
       "version_major": 2,
       "version_minor": 0
      },
      "text/plain": [
       "  0%|          | 0/8 [00:00<?, ?it/s]"
      ]
     },
     "metadata": {},
     "output_type": "display_data"
    },
    {
     "data": {
      "application/vnd.jupyter.widget-view+json": {
       "model_id": "447db56696f347079234e9825fc87f06",
       "version_major": 2,
       "version_minor": 0
      },
      "text/plain": [
       "  0%|          | 0/9 [00:00<?, ?it/s]"
      ]
     },
     "metadata": {},
     "output_type": "display_data"
    },
    {
     "data": {
      "application/vnd.jupyter.widget-view+json": {
       "model_id": "3120873c661d4bca8a1349edf2b9da13",
       "version_major": 2,
       "version_minor": 0
      },
      "text/plain": [
       "  0%|          | 0/10 [00:00<?, ?it/s]"
      ]
     },
     "metadata": {},
     "output_type": "display_data"
    },
    {
     "data": {
      "application/vnd.jupyter.widget-view+json": {
       "model_id": "1789652146db43a79ac878f16d16d033",
       "version_major": 2,
       "version_minor": 0
      },
      "text/plain": [
       "  0%|          | 0/11 [00:00<?, ?it/s]"
      ]
     },
     "metadata": {},
     "output_type": "display_data"
    },
    {
     "data": {
      "application/vnd.jupyter.widget-view+json": {
       "model_id": "1fbc8b9b395e4a2ca5da5450053651ca",
       "version_major": 2,
       "version_minor": 0
      },
      "text/plain": [
       "  0%|          | 0/12 [00:00<?, ?it/s]"
      ]
     },
     "metadata": {},
     "output_type": "display_data"
    }
   ],
   "source": [
    "# Pi = 4 dBm\n",
    "paramTx.Pi_dBm = 4 \n",
    "Ltotal = np.arange(600, 1300, 100)\n",
    "H  = np.array([0.35, 0.35, 0.35, 0.35, 0.35, 0.4, 0.4])/(2*pi)\n",
    "BER = np.zeros(len(Ltotal))\n",
    "paramTx.Vb = -0.5*paramTx.Vπ\n",
    "\n",
    "for j, L in enumerate(Ltotal):\n",
    "    paramCh.Ltotal = L\n",
    "    paramTx.H = H[j]\n",
    "    paramRx.H = H[j]\n",
    "    sigTxo, symbTx, t, pulse, pilot = Tx(paramTx)\n",
    "    sigRxo,_  = ssfm(sigTxo, paramTx.Fa, paramCh)\n",
    "    symbRx, symbRx_neq, H_abs, H_pha = Rx(sigRxo, pilot, pulse, t, paramRx)\n",
    "    \n",
    "    symbRx[0::int(paramTx.N/2)] = 'nan'\n",
    "    symbTx[0::int(paramTx.N/2)] = 'nan'\n",
    "\n",
    "    symbTx = symbTx[~np.isnan(symbTx)]\n",
    "    symbRx = symbRx[~np.isnan(symbRx)]\n",
    "    \n",
    "    # Cálculo da BER\n",
    "    BER[j] = fastBERcalc(symbRx, symbTx, paramTx.M, 'qam')[0]"
   ]
  },
  {
   "cell_type": "code",
   "execution_count": 23,
   "id": "d8f5bd1e",
   "metadata": {},
   "outputs": [
    {
     "name": "stderr",
     "output_type": "stream",
     "text": [
      "C:\\Users\\embedded05\\Anaconda3\\lib\\site-packages\\ipykernel_launcher.py:2: RuntimeWarning: divide by zero encountered in log10\n",
      "  \n"
     ]
    },
    {
     "data": {
      "image/png": "[encoded data removed]",
      "text/plain": [
       "<Figure size 720x576 with 1 Axes>"
      ]
     },
     "metadata": {
      "needs_background": "light"
     },
     "output_type": "display_data"
    }
   ],
   "source": [
    "plt.figure(figsize = (10, 8))\n",
    "plt.plot(Ltotal, np.log10(BER), '-o')\n",
    "\n",
    "plt.ylabel(r\"$\\log(BER)$\")\n",
    "plt.xlabel(r\"$L [km]$\")\n",
    "plt.grid()"
   ]
  },
  {
   "cell_type": "code",
   "execution_count": 24,
   "id": "693ab59f",
   "metadata": {},
   "outputs": [
    {
     "data": {
      "application/vnd.jupyter.widget-view+json": {
       "model_id": "ec563239990b486ebe1b382823248e49",
       "version_major": 2,
       "version_minor": 0
      },
      "text/plain": [
       "  0%|          | 0/6 [00:00<?, ?it/s]"
      ]
     },
     "metadata": {},
     "output_type": "display_data"
    },
    {
     "data": {
      "application/vnd.jupyter.widget-view+json": {
       "model_id": "28b54cb903f74b7a9603e3ad2bfe00a1",
       "version_major": 2,
       "version_minor": 0
      },
      "text/plain": [
       "  0%|          | 0/7 [00:00<?, ?it/s]"
      ]
     },
     "metadata": {},
     "output_type": "display_data"
    },
    {
     "data": {
      "application/vnd.jupyter.widget-view+json": {
       "model_id": "361b86ca2d7a4b77bf67e3c6d3fb5386",
       "version_major": 2,
       "version_minor": 0
      },
      "text/plain": [
       "  0%|          | 0/8 [00:00<?, ?it/s]"
      ]
     },
     "metadata": {},
     "output_type": "display_data"
    },
    {
     "data": {
      "application/vnd.jupyter.widget-view+json": {
       "model_id": "dbc794e966c941ec870bceda2b495d8a",
       "version_major": 2,
       "version_minor": 0
      },
      "text/plain": [
       "  0%|          | 0/9 [00:00<?, ?it/s]"
      ]
     },
     "metadata": {},
     "output_type": "display_data"
    },
    {
     "data": {
      "application/vnd.jupyter.widget-view+json": {
       "model_id": "a010c8ad41fe435b90728451f22a7e8c",
       "version_major": 2,
       "version_minor": 0
      },
      "text/plain": [
       "  0%|          | 0/10 [00:00<?, ?it/s]"
      ]
     },
     "metadata": {},
     "output_type": "display_data"
    },
    {
     "data": {
      "application/vnd.jupyter.widget-view+json": {
       "model_id": "8c015bea0aae4fbc93f8894389674601",
       "version_major": 2,
       "version_minor": 0
      },
      "text/plain": [
       "  0%|          | 0/11 [00:00<?, ?it/s]"
      ]
     },
     "metadata": {},
     "output_type": "display_data"
    },
    {
     "data": {
      "application/vnd.jupyter.widget-view+json": {
       "model_id": "732ff6ff974040498c5034f828ec24e2",
       "version_major": 2,
       "version_minor": 0
      },
      "text/plain": [
       "  0%|          | 0/12 [00:00<?, ?it/s]"
      ]
     },
     "metadata": {},
     "output_type": "display_data"
    }
   ],
   "source": [
    "# Pi = 10 dBm\n",
    "paramTx.Pi_dBm = 10\n",
    "Ltotal = np.arange(600, 1300, 100)\n",
    "H  = np.array([0.35, 0.35, 0.35, 0.35, 0.35, 0.4, 0.4])/(2*pi)\n",
    "BER = np.zeros(len(Ltotal))\n",
    "paramTx.Vb = -0.5*paramTx.Vπ\n",
    "\n",
    "for j, L in enumerate(Ltotal):\n",
    "    paramCh.Ltotal = L\n",
    "    paramTx.H = H[j]\n",
    "    paramRx.H = H[j]\n",
    "    sigTxo, symbTx, t, pulse, pilot = Tx(paramTx)\n",
    "    sigRxo,_  = ssfm(sigTxo, paramTx.Fa, paramCh)\n",
    "    symbRx, symbRx_neq, H_abs, H_pha = Rx(sigRxo, pilot, pulse, t, paramRx)\n",
    "    \n",
    "    symbRx[0::int(paramTx.N/2)] = 'nan'\n",
    "    symbTx[0::int(paramTx.N/2)] = 'nan'\n",
    "\n",
    "    symbTx = symbTx[~np.isnan(symbTx)]\n",
    "    symbRx = symbRx[~np.isnan(symbRx)]\n",
    "    \n",
    "    # Cálculo da BER\n",
    "    BER[j] = fastBERcalc(symbRx, symbTx, paramTx.M, 'qam')[0]"
   ]
  },
  {
   "cell_type": "code",
   "execution_count": 25,
   "id": "0ce5a5ef",
   "metadata": {},
   "outputs": [
    {
     "data": {
      "image/png": "[encoded data removed]",
      "text/plain": [
       "<Figure size 720x576 with 1 Axes>"
      ]
     },
     "metadata": {
      "needs_background": "light"
     },
     "output_type": "display_data"
    }
   ],
   "source": [
    "plt.figure(figsize = (10, 8))\n",
    "plt.plot(Ltotal, np.log10(BER), '-o')\n",
    "\n",
    "plt.ylabel(r\"$\\log(BER)$\")\n",
    "plt.xlabel(r\"$L [km]$\")\n",
    "plt.grid()"
   ]
  },
  {
   "cell_type": "code",
   "execution_count": null,
   "id": "336bbd90",
   "metadata": {},
   "outputs": [],
   "source": []
  }
 ],
 "metadata": {
  "kernelspec": {
   "display_name": "Python 3",
   "language": "python",
   "name": "python3"
  },
  "language_info": {
   "codemirror_mode": {
    "name": "ipython",
    "version": 3
   },
   "file_extension": ".py",
   "mimetype": "text/x-python",
   "name": "python",
   "nbconvert_exporter": "python",
   "pygments_lexer": "ipython3",
   "version": "3.8.8"
  }
 },
 "nbformat": 4,
 "nbformat_minor": 5
}
