{
 "cells": [
  {
   "cell_type": "markdown",
   "id": "d07cc2d6",
   "metadata": {},
   "source": [
    "# Testing Basic OFDM functions"
   ]
  },
  {
   "cell_type": "code",
   "execution_count": 45,
   "id": "c1f91355",
   "metadata": {
    "ExecuteTime": {
     "end_time": "2023-01-04T18:55:45.458904Z",
     "start_time": "2023-01-04T18:55:45.321894Z"
    }
   },
   "outputs": [],
   "source": [
    "import numpy as np\n",
    "import matplotlib.pyplot as plt\n",
    "\n",
    "from optic.modulation import modulateGray\n",
    "from optic.metrics     import fastBERcalc, signal_power, theoryBER\n",
    "from optic.models      import awgn\n",
    "from optic.dsp         import lowPassFIR, firFilter, pnorm, pulseShape\n",
    "from optic.equalization import edc\n",
    "from tqdm.notebook     import tqdm\n",
    "from utils.ofdm        import modulateOFDM, demodulateOFDM\n",
    "from commpy.utilities  import upsample\n",
    "from tqdm.notebook     import tqdm\n",
    "from optic.plot import plotPSD, pconst\n",
    "\n",
    "pi = np.pi"
   ]
  },
  {
   "cell_type": "code",
   "execution_count": 2,
   "id": "5cb164a6",
   "metadata": {
    "ExecuteTime": {
     "end_time": "2023-01-04T18:39:11.719877Z",
     "start_time": "2023-01-04T18:39:11.707865Z"
    }
   },
   "outputs": [],
   "source": [
    "#import scienceplots\n",
    "\n",
    "#plt.style.use('science')\n",
    "font = {'size':14}\n",
    "plt.rc('font', **font)\n",
    "plt.rcParams['figure.dpi'] = 100"
   ]
  },
  {
   "cell_type": "code",
   "execution_count": 3,
   "id": "e8d0f99e",
   "metadata": {
    "ExecuteTime": {
     "end_time": "2023-01-04T18:39:11.846140Z",
     "start_time": "2023-01-04T18:39:11.721863Z"
    }
   },
   "outputs": [],
   "source": [
    "%load_ext autoreload\n",
    "%autoreload 2"
   ]
  },
  {
   "cell_type": "markdown",
   "id": "c2d31bc5",
   "metadata": {},
   "source": [
    "## Parameters"
   ]
  },
  {
   "cell_type": "code",
   "execution_count": 129,
   "id": "26c8f10c",
   "metadata": {
    "ExecuteTime": {
     "end_time": "2023-01-04T19:29:30.566064Z",
     "start_time": "2023-01-04T19:29:30.442059Z"
    }
   },
   "outputs": [],
   "source": [
    "# Parâmetros do transmissor\n",
    "paramTx = parameters()\n",
    "\n",
    "# OFDM\n",
    "M    = 16                       # Número de símbolos da constelação QAM\n",
    "Nfft = 512                      # Tamanho da FFT\n",
    "Ns = int(Nfft/2) - 1            # Número de sub-portadoras\n",
    "N  = Ns                         # Número de portadoras de informação\n",
    "Nz = Ns - N                     # Número de subportadoras nulas\n",
    "G  = 4                          # Tamanho do prefixo cíclico\n",
    "K  = 4                          # Número de portadoras piloto por bloco OFDM\n",
    "\n",
    "Rb  = 6e9                       # Taxa de bits/s\n",
    "Rs  = Rb*Ns*(1 +G/Nfft) / (np.log2(M)*N)      # Banda do sinal\n",
    "SpS = 4                         # Amostras por símbolo\n",
    "Fa  = Rs*SpS                    # Frequência de amostragem\n",
    "Fc  = 193.4e12                  # Frequência da portadora óptica"
   ]
  },
  {
   "cell_type": "markdown",
   "id": "6a733d43",
   "metadata": {},
   "source": [
    "## AWGN simulation"
   ]
  },
  {
   "cell_type": "code",
   "execution_count": 130,
   "id": "39fdca6d",
   "metadata": {
    "ExecuteTime": {
     "end_time": "2023-01-04T19:29:30.865059Z",
     "start_time": "2023-01-04T19:29:30.681057Z"
    }
   },
   "outputs": [],
   "source": [
    "# Random bits sequency\n",
    "bits = np.random.randint(2, size = Ns*2**6)\n",
    "\n",
    "# Maping bits - symbols\n",
    "symbTx = modulateGray(bits, M, 'qam')\n",
    "symbTx = pnorm(symbTx) # power normalization\n",
    "\n",
    "# Pilot carriers\n",
    "pilot = max(symbTx.real) + 1j*max(symbTx.imag)\n",
    "\n",
    "# OFDM symbols generation\n",
    "symbTx_OFDM, symbTx = modulateOFDM(Nfft, Ns, N, Nz, G, K, pilot, symbTx)\n",
    "\n",
    "# Upsample + pulse shaping\n",
    "pulse = pulseShape('rrc', SpS, alpha = 0.01)\n",
    "pulse = pnorm(pulse)\n",
    "sigOFDM_Tx = firFilter(pulse, upsample(symbTx_OFDM, SpS))"
   ]
  },
  {
   "cell_type": "code",
   "execution_count": 131,
   "id": "c4f0ea64",
   "metadata": {
    "ExecuteTime": {
     "end_time": "2023-01-04T19:29:31.212349Z",
     "start_time": "2023-01-04T19:29:30.981052Z"
    }
   },
   "outputs": [
    {
     "data": {
      "image/png": "[encoded data removed]",
      "text/plain": [
       "<Figure size 432x288 with 1 Axes>"
      ]
     },
     "metadata": {
      "needs_background": "light"
     },
     "output_type": "display_data"
    }
   ],
   "source": [
    "plotPSD(sigOFDM_Tx, Fa);"
   ]
  },
  {
   "cell_type": "code",
   "execution_count": 132,
   "id": "185bd3ca",
   "metadata": {
    "ExecuteTime": {
     "end_time": "2023-01-04T19:29:31.685764Z",
     "start_time": "2023-01-04T19:29:31.534741Z"
    }
   },
   "outputs": [],
   "source": [
    "SNR = 25\n",
    "sigOFDM_Rx = awgn(sigOFDM_Tx, SNR, Fa, Rs)\n",
    "sigOFDM_Rx = firFilter(pulse, sigOFDM_Rx)\n",
    "\n",
    "sigOFDM_Rx = sigOFDM_Rx[0::SpS] # downsampling to 1 sample per symbol\n",
    "\n",
    "# OFDM demodulation\n",
    "symbRx, symbRx_neq, H_abs, H_pha = demodulateOFDM(Nfft, Ns, N, Nz, G, K, pilot, pnorm(sigOFDM_Rx))"
   ]
  },
  {
   "cell_type": "code",
   "execution_count": 133,
   "id": "db190fd1",
   "metadata": {
    "ExecuteTime": {
     "end_time": "2023-01-04T19:29:32.177477Z",
     "start_time": "2023-01-04T19:29:32.058489Z"
    }
   },
   "outputs": [
    {
     "name": "stdout",
     "output_type": "stream",
     "text": [
      "BER = 1.29e-04\n",
      "BER(theory) = 6.66e-16\n",
      "SNRest = 23.50\n"
     ]
    }
   ],
   "source": [
    "discard = 100\n",
    "ind = np.arange(discard,len(symbRx)-discard)\n",
    "BER, _, SNRest = fastBERcalc(symbRx[ind], symbTx[ind], M, 'qam')\n",
    "\n",
    "EbN0 = SNR - 10*np.log10(np.log2(M))\n",
    "\n",
    "print('BER = %.2e'%BER)\n",
    "print('BER(theory) = %.2e'%theoryBER(M, EbN0, 'qam'))\n",
    "print('SNRest = %.2f'%SNRest)"
   ]
  },
  {
   "cell_type": "code",
   "execution_count": 128,
   "id": "5c32b2b3",
   "metadata": {
    "ExecuteTime": {
     "end_time": "2023-01-04T19:29:24.591381Z",
     "start_time": "2023-01-04T19:29:24.367392Z"
    }
   },
   "outputs": [
    {
     "data": {
      "image/png": "[encoded data removed]",
      "text/plain": [
       "<Figure size 432x288 with 1 Axes>"
      ]
     },
     "metadata": {
      "needs_background": "light"
     },
     "output_type": "display_data"
    }
   ],
   "source": [
    "pconst(symbRx[ind], pType='fast');"
   ]
  }
 ],
 "metadata": {
  "kernelspec": {
   "display_name": "Python 3 (ipykernel)",
   "language": "python",
   "name": "python3"
  },
  "language_info": {
   "codemirror_mode": {
    "name": "ipython",
    "version": 3
   },
   "file_extension": ".py",
   "mimetype": "text/x-python",
   "name": "python",
   "nbconvert_exporter": "python",
   "pygments_lexer": "ipython3",
   "version": "3.9.12"
  }
 },
 "nbformat": 4,
 "nbformat_minor": 5
}
