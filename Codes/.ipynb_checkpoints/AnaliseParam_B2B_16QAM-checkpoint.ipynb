{
 "cells": [
  {
   "cell_type": "markdown",
   "id": "d07cc2d6",
   "metadata": {},
   "source": [
    "# Encontrando os parâmetros ótimos do modulador"
   ]
  },
  {
   "cell_type": "code",
   "execution_count": 1,
   "id": "c1f91355",
   "metadata": {
    "ExecuteTime": {
     "end_time": "2022-12-19T21:11:20.401425Z",
     "start_time": "2022-12-19T21:11:18.375452Z"
    }
   },
   "outputs": [],
   "source": [
    "import numpy as np\n",
    "import matplotlib.pyplot as plt\n",
    "\n",
    "from optic.metrics     import fastBERcalc, signal_power\n",
    "from optic.core        import parameters\n",
    "from optic.models      import photodiode, awgn #ssfm \n",
    "from optic.dsp         import lowPassFIR, firFilter\n",
    "from optic.modelsGPU   import ssfm\n",
    "\n",
    "from tqdm.notebook     import tqdm\n",
    "from utils.ofdm        import Tx, Rx, PAPR\n",
    "from commpy.utilities  import upsample\n",
    "from tqdm.notebook     import tqdm\n",
    "from tabulate          import tabulate\n",
    "\n",
    "pi = np.pi"
   ]
  },
  {
   "cell_type": "code",
   "execution_count": 2,
   "id": "5cb164a6",
   "metadata": {
    "ExecuteTime": {
     "end_time": "2022-12-19T21:11:20.416845Z",
     "start_time": "2022-12-19T21:11:20.403423Z"
    }
   },
   "outputs": [],
   "source": [
    "#import scienceplots\n",
    "\n",
    "#plt.style.use('science')\n",
    "font = {'size':14}\n",
    "plt.rc('font', **font)\n",
    "plt.rcParams['figure.dpi'] = 100"
   ]
  },
  {
   "cell_type": "markdown",
   "id": "c2d31bc5",
   "metadata": {},
   "source": [
    "## Parametrização do sistema"
   ]
  },
  {
   "cell_type": "code",
   "execution_count": 3,
   "id": "26c8f10c",
   "metadata": {
    "ExecuteTime": {
     "end_time": "2022-12-19T21:11:21.293944Z",
     "start_time": "2022-12-19T21:11:20.417845Z"
    }
   },
   "outputs": [],
   "source": [
    "# Parâmetros do transmissor\n",
    "paramTx = parameters()\n",
    "\n",
    "# OFDM\n",
    "paramTx.M    = 16                       # Número de símbolos da constelação QAM\n",
    "paramTx.Nfft = 512                      # Tamanho da FFT\n",
    "paramTx.Ns = int(paramTx.Nfft/2) - 1    # Número de sub-portadoras\n",
    "paramTx.N  = paramTx.Ns                 # Número de portadoras de informação\n",
    "paramTx.Nz = paramTx.Ns - paramTx.N     # Número de subportadoras nulas\n",
    "paramTx.G  = 4                          # Tamanho do prefixo cíclico\n",
    "paramTx.K  = 4                          # Número de portadoras piloto por bloco OFDM\n",
    "\n",
    "Rb          = 6e9                       # Taxa de bits/s\n",
    "paramTx.Rs  = Rb*paramTx.Ns*(1 + paramTx.G/paramTx.Nfft) / (np.log2(paramTx.M)*paramTx.N)      # Banda do sinal\n",
    "paramTx.SpS = 16                         # Amostras por símbolo\n",
    "paramTx.Fa  = paramTx.Rs*paramTx.SpS    # Frequência de amostragem\n",
    "paramTx.Fc  = 193.4e12                  # Frequência da portadora óptica\n",
    "# Portadora elétrica\n",
    "paramTx.fc = 1e9                         # Frequência da portadora [Hz]\n",
    "paramTx.H  = 0.35/(2*pi)\n",
    "# MZM e potência de entrada\n",
    "paramTx.Vπ = 4.0\n",
    "paramTx.Vb = -0.5*paramTx.Vπ\n",
    "paramTx.Pi_dBm = 2"
   ]
  },
  {
   "cell_type": "code",
   "execution_count": 4,
   "id": "9354089e",
   "metadata": {
    "ExecuteTime": {
     "end_time": "2022-12-19T21:11:21.869962Z",
     "start_time": "2022-12-19T21:11:21.295938Z"
    }
   },
   "outputs": [],
   "source": [
    "# Parâmetros da fibra\n",
    "paramCh = parameters()\n",
    "\n",
    "paramCh.Ltotal  = 2000         # Comprimento total do link [km]\n",
    "paramCh.Lspan   = 100         # Comprimento de um span de fibra [km]\n",
    "paramCh.hz      = 100         # Comprimento do passo para o método SSF [km]\n",
    "paramCh.alpha   = 0.2         # Atenuação da fibra [dB/km]\n",
    "paramCh.D       = 0          # Parâmetro de dispersão cromática [ps/nm/km]\n",
    "paramCh.gamma   = 0         # Parâmetro de não-linearidade da fibra [1/W/km]\n",
    "paramCh.amp     = 'edfa'      # Tipo de amplificador\n",
    "paramCh.NF      = 4.0         # Figura de ruído do amplificador [dB]\n",
    "paramCh.Fc      = paramTx.Fc  # Frequência da portadora óptica [Hz]\n",
    "paramCh.prgsBar = False"
   ]
  },
  {
   "cell_type": "code",
   "execution_count": 5,
   "id": "c7cb4593",
   "metadata": {
    "ExecuteTime": {
     "end_time": "2022-12-19T21:11:22.743491Z",
     "start_time": "2022-12-19T21:11:21.874956Z"
    }
   },
   "outputs": [],
   "source": [
    "# Parâmetros do fotodetector\n",
    "paramPD = parameters()\n",
    "\n",
    "paramPD.R  = 1           # Responsividade\n",
    "paramPD.Tc = 25          # Temperatura [°C]\n",
    "paramPD.Id = 5e-9        # Corrente de escuro [A]\n",
    "paramPD.RL = 50          # Resistência [Ω]\n",
    "paramPD.B  = 1.9e9        # Largura de banda [Hz]\n",
    "paramPD.Fa = paramTx.Fa  # Frequência de amostragem\n",
    "paramPD.N  = 8001        # Tamanho do resposta do filtro\n",
    "paramPD.ideal = True   # Definição do modelo: ideal ou real"
   ]
  },
  {
   "cell_type": "code",
   "execution_count": 6,
   "id": "c41a6b5f",
   "metadata": {
    "ExecuteTime": {
     "end_time": "2022-12-19T21:11:23.338933Z",
     "start_time": "2022-12-19T21:11:22.744747Z"
    }
   },
   "outputs": [],
   "source": [
    "# Parâmetros do receptor\n",
    "paramRx = parameters()\n",
    "\n",
    "paramRx.SpS = paramTx.SpS       # Amostras por símbolo\n",
    "paramRx.Fa  = paramTx.Fa        # Frequência de amostragem\n",
    "paramRx.H   = paramTx.H         # Índice de modulação\n",
    "paramRx.fc  = paramTx.fc        # Frequência da portadora elétrica\n",
    "paramRx.Nfft = paramTx.Nfft\n",
    "paramRx.Ns = paramTx.Ns\n",
    "paramRx.N  = paramTx.N\n",
    "paramRx.Nz = paramTx.Nz\n",
    "paramRx.G  = paramTx.G\n",
    "paramRx.K  = paramTx.K\n",
    "\n",
    "# optical filter\n",
    "h_opt = lowPassFIR(paramPD.B, paramTx.Fa, 8001, typeF='rect')"
   ]
  },
  {
   "cell_type": "markdown",
   "id": "1325f90e",
   "metadata": {},
   "source": [
    "## 1 - Modulação 16-QAM"
   ]
  },
  {
   "cell_type": "code",
   "execution_count": 7,
   "id": "f35c6fdf",
   "metadata": {
    "ExecuteTime": {
     "end_time": "2022-12-19T21:11:24.162775Z",
     "start_time": "2022-12-19T21:11:23.342218Z"
    }
   },
   "outputs": [
    {
     "name": "stdout",
     "output_type": "stream",
     "text": [
      "╒═════════════════════════════════╤═════════════╤══════════╕\n",
      "│ Grandeza                        │ Parâmetro   │ Valor    │\n",
      "╞═════════════════════════════════╪═════════════╪══════════╡\n",
      "│ Taxa de transmissão             │ Rb          │ 6.0 Gb/s │\n",
      "├─────────────────────────────────┼─────────────┼──────────┤\n",
      "│ Tamanho da FFT                  │ Nfft        │ 512      │\n",
      "├─────────────────────────────────┼─────────────┼──────────┤\n",
      "│ Tamanho da constelação          │ M           │ 16       │\n",
      "├─────────────────────────────────┼─────────────┼──────────┤\n",
      "│ Tamanho do prefixo cíclico      │ G           │ 4        │\n",
      "├─────────────────────────────────┼─────────────┼──────────┤\n",
      "│ Total de subportadoras          │ Ns          │ 255      │\n",
      "├─────────────────────────────────┼─────────────┼──────────┤\n",
      "│ Subportadoras de informação     │ N           │ 255      │\n",
      "├─────────────────────────────────┼─────────────┼──────────┤\n",
      "│ Subportadoras anuladas          │ Nz          │ 0        │\n",
      "├─────────────────────────────────┼─────────────┼──────────┤\n",
      "│ Subportadoras de informação     │ N           │ 255      │\n",
      "├─────────────────────────────────┼─────────────┼──────────┤\n",
      "│ Largura de banda                │ Bw          │ 1.51 GHz │\n",
      "├─────────────────────────────────┼─────────────┼──────────┤\n",
      "│ Espaçamento entre subportadoras │ Delta_f     │ 2.95 MHz │\n",
      "├─────────────────────────────────┼─────────────┼──────────┤\n",
      "│ Duração do símbolo OFDM         │ Ts          │ 0.34 us  │\n",
      "├─────────────────────────────────┼─────────────┼──────────┤\n",
      "│ Duração do prefixo cíclico      │ Tg          │ 2.65 ns  │\n",
      "├─────────────────────────────────┼─────────────┼──────────┤\n",
      "│ Frequência central              │ fc          │ 1.0 GHz  │\n",
      "╘═════════════════════════════════╧═════════════╧══════════╛\n"
     ]
    }
   ],
   "source": [
    "# Parametrização do sistema\n",
    "\n",
    "table = [['Grandeza', 'Parâmetro', 'Valor'],\n",
    "         ['Taxa de transmissão', 'Rb', f'{round(Rb*1e-9, 2)} Gb/s'], \n",
    "         ['Tamanho da FFT', 'Nfft', f'{paramTx.Nfft}'], \n",
    "         ['Tamanho da constelação', 'M', f'{paramTx.M}'], \n",
    "         ['Tamanho do prefixo cíclico', 'G', f'{paramTx.G}'], \n",
    "         ['Total de subportadoras', 'Ns', f'{paramTx.Ns}'], \n",
    "         ['Subportadoras de informação', 'N', f'{paramTx.N}'],\n",
    "         ['Subportadoras anuladas', 'Nz', f'{paramTx.Nz}'],\n",
    "         ['Subportadoras de informação', 'N', f'{paramTx.N}'],\n",
    "         ['Largura de banda', 'Bw', f'{round(paramTx.Rs*1e-9, 2)} GHz'], \n",
    "         ['Espaçamento entre subportadoras', 'Delta_f', f'{ round((paramTx.Rs/paramTx.Nfft)*1e-6, 2)} MHz'],\n",
    "         ['Duração do símbolo OFDM', 'Ts', f'{round((paramTx.Nfft/paramTx.Rs)*1e6,2)} us'],\n",
    "         ['Duração do prefixo cíclico', 'Tg', f'{round((paramTx.G/paramTx.Rs)*1e9,2)} ns'],\n",
    "         ['Frequência central', 'fc', f'{round((paramTx.fc)*1e-9,2)} GHz']]\n",
    "\n",
    "print(tabulate(table, headers = 'firstrow', tablefmt = 'fancy_grid'))"
   ]
  },
  {
   "cell_type": "markdown",
   "id": "c06162b6",
   "metadata": {},
   "source": [
    "## Back-to-back CE-DDO-OFDM  and DDO-OFDM"
   ]
  },
  {
   "cell_type": "code",
   "execution_count": 8,
   "id": "709298de",
   "metadata": {
    "ExecuteTime": {
     "end_time": "2022-12-19T21:11:24.444419Z",
     "start_time": "2022-12-19T21:11:24.168761Z"
    }
   },
   "outputs": [],
   "source": [
    "paramTx.Pi_dBm = 2\n",
    "paramTx.A = 0.75\n",
    "paramTx.Vb = -0.5*paramTx.Vπ\n",
    "paramTx.g = 0.25\n",
    "paramTx.H = 0.35/(2*pi)"
   ]
  },
  {
   "cell_type": "code",
   "execution_count": 9,
   "id": "d9667fc6",
   "metadata": {
    "ExecuteTime": {
     "end_time": "2022-12-19T21:11:24.834652Z",
     "start_time": "2022-12-19T21:11:24.446416Z"
    }
   },
   "outputs": [],
   "source": [
    "OSNR = np.arange(5, 30)\n",
    "BER_CEDD_B2B = np.zeros(OSNR.shape)\n",
    "BER_DD_B2B = np.zeros(OSNR.shape)"
   ]
  },
  {
   "cell_type": "code",
   "execution_count": null,
   "id": "8b4982a1",
   "metadata": {
    "ExecuteTime": {
     "end_time": "2022-12-19T21:11:47.475687Z",
     "start_time": "2022-12-19T21:11:24.836709Z"
    }
   },
   "outputs": [],
   "source": [
    "paramTx.Scheme = \"CE-DDO-OFDM\"\n",
    "paramRx.Scheme = paramTx.Scheme\n",
    "for ind, osnr in enumerate(OSNR):     \n",
    "        sigTxo, sigTx, sigTx_CE, symbTx, t, pulse, pilot = Tx(paramTx)\n",
    "        sigTxo = np.sqrt(10**(paramTx.Pi_dBm/10)*1e-3) * sigTxo/np.sqrt(signal_power(sigTxo))\n",
    "        \n",
    "        snr = osnr - 10*np.log10(paramPD.B/(2*12.5e9))\n",
    "        sigRxo = awgn(sigTxo, snr, paramTx.Fa, paramPD.B)\n",
    "        \n",
    "        # optical filter\n",
    "        sigRxo = firFilter(h_opt, sigRxo)\n",
    "        \n",
    "        ipd = photodiode(sigRxo, paramPD)\n",
    "        symbRx, symbRx_neq, sigRx, H_abs, H_pha = Rx(ipd, pilot, pulse, t, paramRx)\n",
    "\n",
    "        BER_CEDD_B2B[ind] = fastBERcalc(symbRx, symbTx, paramTx.M, 'qam')[0]"
   ]
  },
  {
   "cell_type": "code",
   "execution_count": null,
   "id": "7e18fc76",
   "metadata": {
    "ExecuteTime": {
     "end_time": "2022-12-19T21:11:47.632307Z",
     "start_time": "2022-12-19T21:11:47.476685Z"
    }
   },
   "outputs": [],
   "source": [
    "plt.psd(sigTxo, Fs=paramTx.Fa/1e9, NFFT = 16*1024, sides='twosided');\n",
    "plt.psd(sigRxo, Fs=paramTx.Fa/1e9, NFFT = 16*1024, sides='twosided');\n",
    "plt.xlabel('Frequency (GHz)')\n",
    "plt.xlim(-6,6);"
   ]
  },
  {
   "cell_type": "code",
   "execution_count": null,
   "id": "fb2c8858",
   "metadata": {
    "ExecuteTime": {
     "end_time": "2022-12-19T21:12:05.661325Z",
     "start_time": "2022-12-19T21:11:47.633305Z"
    }
   },
   "outputs": [],
   "source": [
    "paramTx.Scheme = \"DDO-OFDM\"\n",
    "paramRx.Scheme = paramTx.Scheme\n",
    "for ind, osnr in enumerate(OSNR):     \n",
    "        sigTxo, sigTx, sigTx_CE, symbTx, t, pulse, pilot = Tx(paramTx)\n",
    "        sigTxo = np.sqrt(10**(paramTx.Pi_dBm/10)*1e-3) * sigTxo/np.sqrt(signal_power(sigTxo))\n",
    "        \n",
    "        snr = osnr - 10*np.log10(paramPD.B/(2*12.5e9))\n",
    "        sigRxo = awgn(sigTxo, snr, paramTx.Fa, paramPD.B)\n",
    "        \n",
    "        # optical filter\n",
    "        sigRxo = firFilter(h_opt, sigRxo)\n",
    "        \n",
    "        ipd = photodiode(sigRxo, paramPD)\n",
    "        symbRx, symbRx_neq, sigRx, H_abs, H_pha = Rx(ipd, pilot, pulse, t, paramRx)\n",
    "\n",
    "        BER_DD_B2B[ind] = fastBERcalc(symbRx, symbTx, paramTx.M, 'qam')[0]"
   ]
  },
  {
   "cell_type": "code",
   "execution_count": null,
   "id": "fa4fcfe1",
   "metadata": {
    "ExecuteTime": {
     "end_time": "2022-12-19T21:12:05.817383Z",
     "start_time": "2022-12-19T21:12:05.662323Z"
    }
   },
   "outputs": [],
   "source": [
    "plt.psd(sigTxo, Fs=paramTx.Fa/1e9, NFFT = 16*1024, sides='twosided');\n",
    "plt.psd(sigRxo, Fs=paramTx.Fa/1e9, NFFT = 16*1024, sides='twosided');\n",
    "plt.xlabel('Frequency (GHz)')\n",
    "plt.xlim(-6,6);"
   ]
  },
  {
   "cell_type": "code",
   "execution_count": null,
   "id": "a1966668",
   "metadata": {
    "ExecuteTime": {
     "end_time": "2022-12-19T21:12:06.084744Z",
     "start_time": "2022-12-19T21:12:05.818379Z"
    },
    "scrolled": false
   },
   "outputs": [],
   "source": [
    "plt.figure(figsize = (9, 4))\n",
    "\n",
    "plt.plot(OSNR, np.log10(BER_CEDD_B2B), '-o', ms = 6, lw = 2, label = f'CE-DD Vb = {round(paramTx.Vb/paramTx.Vπ, 2)}$V\\pi$')\n",
    "plt.plot(OSNR, np.log10(BER_DD_B2B), '-o', ms = 6, lw = 2, label = f'DD Vb = {round(paramTx.Vb/paramTx.Vπ, 2)}$V\\pi$')\n",
    "\n",
    "plt.title(\"BER vs OSNR B2B\")\n",
    "plt.xlabel(r\"OSNR(dB)\")\n",
    "plt.ylabel(r\"$\\log_{10}(BER)$\")\n",
    "plt.legend(frameon = True)\n",
    "plt.grid()\n",
    "plt.xlim(min(OSNR), max(OSNR));"
   ]
  },
  {
   "cell_type": "markdown",
   "id": "43e5ee84",
   "metadata": {},
   "source": [
    "### Transmission performance (no dispersion, no nonlinear effects)"
   ]
  },
  {
   "cell_type": "code",
   "execution_count": null,
   "id": "3d59f1af",
   "metadata": {
    "ExecuteTime": {
     "end_time": "2022-12-19T21:33:23.481813Z",
     "start_time": "2022-12-19T21:33:23.475830Z"
    }
   },
   "outputs": [],
   "source": [
    "# Parâmetros da fibra\n",
    "paramCh = parameters()\n",
    "paramCh.Lspan   = 100         # Comprimento de um span de fibra [km]\n",
    "paramCh.hz      = 1          # Comprimento do passo para o método SSF [km]\n",
    "paramCh.alpha   = 0.2         # Atenuação da fibra [dB/km]\n",
    "paramCh.D       = 16          # Parâmetro de dispersão cromática [ps/nm/km]\n",
    "paramCh.gamma   = 1.3         # Parâmetro de não-linearidade da fibra [1/W/km]\n",
    "paramCh.amp     = 'edfa'      # Tipo de amplificador\n",
    "paramCh.NF      = 4.5         # Figura de ruído do amplificador [dB]\n",
    "paramCh.Fc      = paramTx.Fc  # Frequência da portadora óptica [Hz]\n",
    "paramCh.prgsBar = False"
   ]
  },
  {
   "cell_type": "code",
   "execution_count": null,
   "id": "4773cc20",
   "metadata": {
    "ExecuteTime": {
     "start_time": "2022-12-19T21:33:24.061Z"
    }
   },
   "outputs": [],
   "source": [
    "Pi_dBm  = np.array([2, 4, 8, 10])\n",
    "Ltotal  = np.arange(100, 1500, 100)\n",
    "osnrTx = 25\n",
    "\n",
    "# CE-DDO-OFDM\n",
    "paramTx.Scheme = \"CE-DDO-OFDM\"\n",
    "paramRx.Scheme = \"CE-DDO-OFDM\"\n",
    "\n",
    "BER_CEDD  = np.zeros((len(Pi_dBm), len(Ltotal)))\n",
    "\n",
    "for i in tqdm(range(len(Pi_dBm))):\n",
    "    paramTx.Pi_dBm = Pi_dBm[i]\n",
    "    sigTxo, sigTx, sigTx_CE, symbTx, t, pulse, pilot = Tx(paramTx)\n",
    "    sigTxo = np.sqrt(10**(paramTx.Pi_dBm/10)*1e-3) * sigTxo/np.sqrt(signal_power(sigTxo))\n",
    "    sigRxo = sigTxo\n",
    "    \n",
    "    snrTx = osnrTx - 10*np.log10(paramPD.B/(2*12.5e9))\n",
    "    sigTxo = awgn(sigTxo, snrTx, paramTx.Fa, paramPD.B)\n",
    "    \n",
    "    # optical filter\n",
    "    sigTxo = firFilter(h_opt, sigTxo)\n",
    "    \n",
    "    for j, Ltot in enumerate(Ltotal):\n",
    "        paramCh.Ltotal = Ltot\n",
    "        sigRxo,_  = ssfm(sigTxo, paramTx.Fa, paramCh)\n",
    "        \n",
    "        # optical filter\n",
    "        sigRxo = firFilter(h_opt, sigRxo)\n",
    "        \n",
    "        ipd = photodiode(sigRxo, paramPD)\n",
    "        symbRx, symbRx_neq, sigRx, H_abs, H_pha = Rx(ipd, pilot, pulse, t, paramRx)\n",
    "        \n",
    "        BER_CEDD[i, j] = fastBERcalc(symbRx, symbTx, paramTx.M, 'qam')[0]"
   ]
  },
  {
   "cell_type": "code",
   "execution_count": null,
   "id": "2a31fef1",
   "metadata": {
    "ExecuteTime": {
     "start_time": "2022-12-19T21:33:24.816Z"
    }
   },
   "outputs": [],
   "source": [
    "# DDO-OFDM\n",
    "paramTx.Scheme = \"DDO-OFDM\"\n",
    "paramRx.Scheme = \"DDO-OFDM\"\n",
    "\n",
    "BER_DD  = np.zeros((len(Pi_dBm), len(Ltotal)))\n",
    "\n",
    "for i in tqdm(range(len(Pi_dBm))):\n",
    "    paramTx.Pi_dBm = Pi_dBm[i]\n",
    "    sigTxo, sigTx, sigTx_DD, symbTx, t, pulse, pilot = Tx(paramTx)\n",
    "    sigTxo = np.sqrt(10**(paramTx.Pi_dBm/10)*1e-3) * sigTxo/np.sqrt(signal_power(sigTxo))\n",
    "    sigRxo = sigTxo\n",
    "    \n",
    "    snrTx = osnrTx - 10*np.log10(paramPD.B/(2*12.5e9))\n",
    "    sigTxo = awgn(sigTxo, snrTx, paramTx.Fa, paramPD.B)\n",
    "    \n",
    "    # optical filter\n",
    "    sigTxo = firFilter(h_opt, sigTxo)\n",
    "        \n",
    "    for j, Ltot in enumerate(Ltotal):\n",
    "        paramCh.Ltotal = Ltot\n",
    "        sigRxo,_  = ssfm(sigTxo, paramTx.Fa, paramCh)\n",
    "        \n",
    "        # optical filter\n",
    "        sigRxo = firFilter(h_opt, sigRxo)\n",
    "        \n",
    "        ipd = photodiode(sigRxo, paramPD)\n",
    "        symbRx, symbRx_neq, sigRx, H_abs, H_pha = Rx(ipd, pilot, pulse, t, paramRx)\n",
    "        \n",
    "        BER_DD[i, j] = fastBERcalc(symbRx, symbTx, paramTx.M, 'qam')[0]"
   ]
  },
  {
   "cell_type": "code",
   "execution_count": null,
   "id": "8a8cf106",
   "metadata": {
    "ExecuteTime": {
     "start_time": "2022-12-19T21:33:26.380Z"
    },
    "scrolled": false
   },
   "outputs": [],
   "source": [
    "fig, axs = plt.subplots(2, 1, figsize = (12, 12))\n",
    "color = ['blue', 'orange', 'green', 'purple']\n",
    "\n",
    "for i in range(2):\n",
    "    axs[0].plot(Ltotal, np.log10(BER_CEDD[i,:]), '-o', color = color[i], ms = 8, lw = 2, label = f\"CE - {Pi_dBm[i]} dBm\")\n",
    "    axs[0].plot(Ltotal, np.log10(BER_DD[i,:]), '--^', color = color[i], ms = 8, lw = 2, label = f\"DDO - {Pi_dBm[i]} dBm\")\n",
    "    \n",
    "    axs[1].plot(Ltotal, np.log10(BER_CEDD[i+2,:]), '-o', color = color[i+2], ms = 8, lw = 2, label = f\"CE - {Pi_dBm[i+2]} dBm\")\n",
    "    axs[1].plot(Ltotal, np.log10(BER_DD[i+2,:]), '--^', color = color[i+2], ms = 8, lw = 2, label = f\"DDO - {Pi_dBm[i+2]} dBm\")\n",
    "    \n",
    "axs[0].set_xlabel(r\"L [km]\")\n",
    "axs[0].set_ylabel(r\"$\\log_{10}(BER)$\")\n",
    "axs[0].set_ylim(-3, -1)\n",
    "axs[0].set_xlim(min(Ltotal), max(Ltotal))\n",
    "axs[0].grid(which='minor', alpha=0.2)\n",
    "axs[0].grid(which='major', alpha=0.5)\n",
    "axs[0].legend(frameon = True)\n",
    "\n",
    "handles,labels = axs[0].get_legend_handles_labels()\n",
    "handles = [handles[0], handles[2], handles[1], handles[3]]\n",
    "labels = [labels[0], labels[2], labels[1], labels[3]]\n",
    "\n",
    "axs[0].legend(handles, labels, frameon = True)\n",
    "\n",
    "axs[1].set_xlabel(r\"L [km]\")\n",
    "axs[1].set_ylabel(r\"$\\log_{10}(BER)$\")\n",
    "axs[1].set_ylim(-3, -1)\n",
    "axs[1].set_xlim(min(Ltotal), max(Ltotal))\n",
    "axs[1].grid(which='minor', alpha=0.2)\n",
    "axs[1].grid(which='major', alpha=0.5)\n",
    "axs[1].legend(frameon = True)\n",
    "\n",
    "handles,labels = axs[1].get_legend_handles_labels()\n",
    "handles = [handles[0], handles[2], handles[1], handles[3]]\n",
    "labels = [labels[0], labels[2], labels[1], labels[3]]\n",
    "\n",
    "axs[1].legend(handles, labels, frameon = True)"
   ]
  },
  {
   "cell_type": "code",
   "execution_count": null,
   "id": "519388e7",
   "metadata": {},
   "outputs": [],
   "source": []
  }
 ],
 "metadata": {
  "kernelspec": {
   "display_name": "Python 3 (ipykernel)",
   "language": "python",
   "name": "python3"
  },
  "language_info": {
   "codemirror_mode": {
    "name": "ipython",
    "version": 3
   },
   "file_extension": ".py",
   "mimetype": "text/x-python",
   "name": "python",
   "nbconvert_exporter": "python",
   "pygments_lexer": "ipython3",
   "version": "3.9.12"
  }
 },
 "nbformat": 4,
 "nbformat_minor": 5
}
